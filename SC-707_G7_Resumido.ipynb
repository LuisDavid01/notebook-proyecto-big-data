{
 "cells": [
  {
   "cell_type": "code",
   "execution_count": 67,
   "id": "084fa33a-83e3-4778-a449-f57ebb4afecd",
   "metadata": {},
   "outputs": [],
   "source": [
    "import sys\n",
    "import sklearn\n",
    "import pandas as pd\n",
    "import matplotlib.pyplot as plt\n",
    "import numpy as np\n",
    "import seaborn as sns\n",
    "import matplotlib.pyplot as plt\n",
    "\n",
    "# Bibliotecas para crear el transformador de clusters\n",
    "from sklearn.base import BaseEstimator, TransformerMixin\n",
    "from sklearn.metrics.pairwise import rbf_kernel\n",
    "from sklearn.cluster import KMeans\n",
    "\n",
    " \n",
    "from sklearn.impute import SimpleImputer\n",
    "from sklearn.preprocessing import FunctionTransformer\n",
    "from sklearn.preprocessing import StandardScaler\n",
    "\n",
    "\n",
    "from sklearn.compose import make_column_selector, ColumnTransformer\n",
    "from sklearn.pipeline import make_pipeline \n",
    "from sklearn.preprocessing import OneHotEncoder"
   ]
  },
  {
   "cell_type": "code",
   "execution_count": 68,
   "id": "2c0f2ce4-bf9f-41b9-88ee-4a97585e6ab5",
   "metadata": {},
   "outputs": [],
   "source": [
    "prestamos = pd.read_csv('loan_data.csv')"
   ]
  },
  {
   "cell_type": "code",
   "execution_count": 69,
   "id": "09409c60-48c2-493d-adfd-7df76cd42c12",
   "metadata": {},
   "outputs": [
    {
     "name": "stdout",
     "output_type": "stream",
     "text": [
      "[0 1]\n"
     ]
    }
   ],
   "source": [
    "#hay_nan_original = prestamosOriginal['Loan_Status'].isnull().any()\n",
    "prestamos[\"Loan_Status\"] = prestamos[\"Loan_Status\"].map({'Y': 1, 'N': 0})\n",
    "prestamos[\"Loan_Status\"].head()\n",
    "print(prestamos[\"Loan_Status\"].unique())"
   ]
  },
  {
   "cell_type": "code",
   "execution_count": 70,
   "id": "424f1ec6-88bd-42b2-aaea-4fe6360b594f",
   "metadata": {},
   "outputs": [],
   "source": [
    "prestamos[\"ingresos_cat\"] = pd.cut(prestamos[\"ApplicantIncome\"],\n",
    "                                 bins = [0, 2600, 3333, 4288, 6000, np.inf],\n",
    "                                   labels = [1, 2, 3, 4, 5])"
   ]
  },
  {
   "cell_type": "code",
   "execution_count": 90,
   "id": "7b1aac7d-e4ba-491c-88be-c5ba14cb28ba",
   "metadata": {},
   "outputs": [
    {
     "name": "stdout",
     "output_type": "stream",
     "text": [
      "Tamaño del train_set (304, 14)\n",
      "Tamaño del test_set (77, 14)\n"
     ]
    }
   ],
   "source": [
    "#creamos los datasets estratificados\n",
    "from sklearn.model_selection import train_test_split\n",
    "strat_train_set, strat_test_set = train_test_split(prestamos, \n",
    "                                                   test_size=0.2, \n",
    "                                                   stratify=prestamos[\"ingresos_cat\"], \n",
    "                                                   random_state=42)\n",
    " \n",
    "print('Tamaño del train_set',strat_train_set.shape)\n",
    "print('Tamaño del test_set',strat_test_set.shape)"
   ]
  },
  {
   "cell_type": "code",
   "execution_count": 91,
   "id": "e9b45068-e2ea-46f0-b3dc-cacd8341f2e0",
   "metadata": {},
   "outputs": [
    {
     "data": {
      "text/plain": [
       "74     1\n",
       "44     1\n",
       "178    1\n",
       "283    1\n",
       "293    1\n",
       "Name: Loan_Status, dtype: int64"
      ]
     },
     "execution_count": 91,
     "metadata": {},
     "output_type": "execute_result"
    }
   ],
   "source": [
    "# Separar las variables predictivas de la variable objetivo\n",
    "prestamostrain = strat_train_set.drop(\"Loan_Status\", axis=1)\n",
    "prestamostrain_labels = strat_train_set[\"Loan_Status\"].copy()\n",
    "prestamostrain_labels.head()"
   ]
  },
  {
   "cell_type": "code",
   "execution_count": 92,
   "id": "04101763-6903-4303-b257-16796d5b5c1e",
   "metadata": {},
   "outputs": [],
   "source": [
    "#Estos miden la capacidad de pago del solicitante y co-solicitante en relación al préstamo\n",
    "def income_to_loan(X):\n",
    "    total_income = X[:, [0]] + X[:, [1]]\n",
    "    return total_income / (X[:, [2]] + 1e-5)\n",
    "\n",
    "def income_to_loan_name(transformer, feature_names_in):\n",
    "    return [\"income_to_loan_ratio\"]\n",
    "#Estos sirven para analizar la dependencia del ingreso conjunto\n",
    "def applicant_to_coapplicant(X):\n",
    "    return X[:, [0]] / (X[:, [1]] + 1e-5)\n",
    "\n",
    "def applicant_to_coapplicant_name(transformer, feature_names_in):\n",
    "    return [\"applicant_to_coapplicant_ratio\"]\n",
    "#Estos se usan para ver qué porcentaje del ingreso representa el préstamo\n",
    "def loan_to_income(X):\n",
    "    total_income = X[:, [0]] + X[:, [1]]\n",
    "    return X[:, [2]] / (total_income + 1e-5)\n",
    "\n",
    "def loan_to_income_name(transformer, feature_names_in):\n",
    "    return [\"loan_to_income_ratio\"]\n",
    "#Estos se usan para ver la carga mensual o anual del solicitante\n",
    "def loan_to_term(X):\n",
    "    return X[:, [0]] / (X[:, [1]] + 1e-5)\n",
    "\n",
    "def loan_to_term_name(transformer, feature_names_in):\n",
    "    return [\"loan_to_term_ratio\"]"
   ]
  },
  {
   "cell_type": "code",
   "execution_count": 93,
   "id": "716f132a-3231-4ee9-8a7c-359f12b2d8fa",
   "metadata": {},
   "outputs": [],
   "source": [
    "from sklearn.compose import ColumnTransformer\n",
    "from sklearn.preprocessing import StandardScaler\n",
    "from sklearn.impute import SimpleImputer\n",
    "from sklearn.pipeline import make_pipeline\n",
    "from sklearn.preprocessing import FunctionTransformer\n",
    "income_to_loan_pipeline = make_pipeline(\n",
    "    SimpleImputer(strategy=\"median\"),\n",
    "    FunctionTransformer(income_to_loan, feature_names_out=income_to_loan_name),\n",
    "    StandardScaler()\n",
    ")\n",
    "\n",
    "applicant_to_coapplicant_pipeline = make_pipeline(\n",
    "    SimpleImputer(strategy=\"median\"),\n",
    "    FunctionTransformer(applicant_to_coapplicant, feature_names_out=applicant_to_coapplicant_name),\n",
    "    StandardScaler()\n",
    ")\n",
    "\n",
    "loan_to_income_pipeline = make_pipeline(\n",
    "    SimpleImputer(strategy=\"median\"),\n",
    "    FunctionTransformer(loan_to_income, feature_names_out=loan_to_income_name),\n",
    "    StandardScaler()\n",
    ")\n",
    "\n",
    "loan_to_term_pipeline = make_pipeline(\n",
    "    SimpleImputer(strategy=\"median\"),\n",
    "    FunctionTransformer(loan_to_term, feature_names_out=loan_to_term_name),\n",
    "    StandardScaler()\n",
    ")\n",
    "from category_encoders import CountEncoder\n",
    "# Pipeline para variables categóricas Ordinal\n",
    "cat_count_pipeline = make_pipeline(\n",
    "    SimpleImputer(strategy=\"most_frequent\"),\n",
    "    CountEncoder()\n",
    ")\n",
    "\n",
    "# Pipeline para variables numéricas restantes\n",
    "default_num_pipeline = make_pipeline(\n",
    "    SimpleImputer(strategy=\"median\"),\n",
    "    StandardScaler()\n",
    ")\n"
   ]
  },
  {
   "cell_type": "code",
   "execution_count": 94,
   "id": "42e11725-9d32-4420-b54e-dea60c3edad5",
   "metadata": {},
   "outputs": [],
   "source": [
    "preprocessing = ColumnTransformer([\n",
    "    (\"income_to_loan\", income_to_loan_pipeline, [\"ApplicantIncome\", \"CoapplicantIncome\", \"LoanAmount\"]),\n",
    "    (\"applicant_to_coapplicant\", applicant_to_coapplicant_pipeline, [\"ApplicantIncome\", \"CoapplicantIncome\"]),\n",
    "    (\"loan_to_income\", loan_to_income_pipeline, [\"ApplicantIncome\", \"CoapplicantIncome\", \"LoanAmount\"]),\n",
    "    (\"loan_to_term\", loan_to_term_pipeline, [\"LoanAmount\", \"Loan_Amount_Term\"]),\n",
    "    (\"cat\", cat_count_pipeline, make_column_selector(dtype_include=object))  # <-- actualizamos esto\n",
    "], remainder=default_num_pipeline)"
   ]
  },
  {
   "cell_type": "code",
   "execution_count": 95,
   "id": "d2631610-1deb-47b4-bc31-e67357217808",
   "metadata": {},
   "outputs": [
    {
     "name": "stdout",
     "output_type": "stream",
     "text": [
      "<class 'numpy.ndarray'>\n",
      "(304, 13)\n"
     ]
    }
   ],
   "source": [
    "# Aplica el preprocesamiento automátizado\n",
    "X = preprocessing.fit_transform(prestamostrain)\n",
    "print(type(X))\n",
    "print(X.shape)"
   ]
  },
  {
   "cell_type": "code",
   "execution_count": 96,
   "id": "7ca8fc33-8131-432d-bf6c-64edae034a0e",
   "metadata": {},
   "outputs": [
    {
     "data": {
      "text/html": [
       "<div>\n",
       "<style scoped>\n",
       "    .dataframe tbody tr th:only-of-type {\n",
       "        vertical-align: middle;\n",
       "    }\n",
       "\n",
       "    .dataframe tbody tr th {\n",
       "        vertical-align: top;\n",
       "    }\n",
       "\n",
       "    .dataframe thead th {\n",
       "        text-align: right;\n",
       "    }\n",
       "</style>\n",
       "<table border=\"1\" class=\"dataframe\">\n",
       "  <thead>\n",
       "    <tr style=\"text-align: right;\">\n",
       "      <th></th>\n",
       "      <th>income_to_loan__income_to_loan_ratio</th>\n",
       "      <th>applicant_to_coapplicant__applicant_to_coapplicant_ratio</th>\n",
       "      <th>loan_to_income__loan_to_income_ratio</th>\n",
       "      <th>loan_to_term__loan_to_term_ratio</th>\n",
       "      <th>cat__0</th>\n",
       "      <th>cat__1</th>\n",
       "      <th>cat__2</th>\n",
       "      <th>cat__3</th>\n",
       "      <th>cat__4</th>\n",
       "      <th>cat__5</th>\n",
       "      <th>cat__6</th>\n",
       "      <th>remainder__Credit_History</th>\n",
       "      <th>remainder__ingresos_cat</th>\n",
       "    </tr>\n",
       "  </thead>\n",
       "  <tbody>\n",
       "    <tr>\n",
       "      <th>74</th>\n",
       "      <td>-0.352710</td>\n",
       "      <td>1.461968</td>\n",
       "      <td>0.356319</td>\n",
       "      <td>0.034177</td>\n",
       "      <td>1.0</td>\n",
       "      <td>237.0</td>\n",
       "      <td>130.0</td>\n",
       "      <td>195.0</td>\n",
       "      <td>223.0</td>\n",
       "      <td>275.0</td>\n",
       "      <td>96.0</td>\n",
       "      <td>0.400381</td>\n",
       "      <td>1.177683</td>\n",
       "    </tr>\n",
       "    <tr>\n",
       "      <th>44</th>\n",
       "      <td>-0.232557</td>\n",
       "      <td>-0.825365</td>\n",
       "      <td>0.024008</td>\n",
       "      <td>0.074821</td>\n",
       "      <td>1.0</td>\n",
       "      <td>237.0</td>\n",
       "      <td>174.0</td>\n",
       "      <td>46.0</td>\n",
       "      <td>81.0</td>\n",
       "      <td>275.0</td>\n",
       "      <td>96.0</td>\n",
       "      <td>0.400381</td>\n",
       "      <td>0.367693</td>\n",
       "    </tr>\n",
       "  </tbody>\n",
       "</table>\n",
       "</div>"
      ],
      "text/plain": [
       "    income_to_loan__income_to_loan_ratio  \\\n",
       "74                             -0.352710   \n",
       "44                             -0.232557   \n",
       "\n",
       "    applicant_to_coapplicant__applicant_to_coapplicant_ratio  \\\n",
       "74                                           1.461968          \n",
       "44                                          -0.825365          \n",
       "\n",
       "    loan_to_income__loan_to_income_ratio  loan_to_term__loan_to_term_ratio  \\\n",
       "74                              0.356319                          0.034177   \n",
       "44                              0.024008                          0.074821   \n",
       "\n",
       "    cat__0  cat__1  cat__2  cat__3  cat__4  cat__5  cat__6  \\\n",
       "74     1.0   237.0   130.0   195.0   223.0   275.0    96.0   \n",
       "44     1.0   237.0   174.0    46.0    81.0   275.0    96.0   \n",
       "\n",
       "    remainder__Credit_History  remainder__ingresos_cat  \n",
       "74                   0.400381                 1.177683  \n",
       "44                   0.400381                 0.367693  "
      ]
     },
     "execution_count": 96,
     "metadata": {},
     "output_type": "execute_result"
    }
   ],
   "source": [
    "prestamostrainProc = pd.DataFrame(X,\n",
    "                               columns=preprocessing.get_feature_names_out(),\n",
    "                               index=prestamostrain.index)\n",
    "prestamostrainProc.head(2)"
   ]
  },
  {
   "cell_type": "markdown",
   "id": "b6a3c2d7-de31-4085-bc20-4f4b81719cf0",
   "metadata": {},
   "source": [
    "## Entranemiento de los modelos"
   ]
  },
  {
   "cell_type": "code",
   "execution_count": 97,
   "id": "01eecd1d-67ca-4c05-80d2-7f590d56e843",
   "metadata": {},
   "outputs": [],
   "source": [
    "from sklearn.metrics import precision_score, recall_score, accuracy_score, confusion_matrix, classification_report"
   ]
  },
  {
   "cell_type": "markdown",
   "id": "08615d24-5403-44ba-b233-46052d3fb83b",
   "metadata": {},
   "source": [
    "## SVC Maquina de soporte vectorial"
   ]
  },
  {
   "cell_type": "code",
   "execution_count": 98,
   "id": "7aab63b5-a3cb-438a-bbcc-2c172b6f56b9",
   "metadata": {},
   "outputs": [
    {
     "data": {
      "text/plain": [
       "array([0, 1, 0, 0, 0, 1, 1, 1, 1, 1], dtype=int64)"
      ]
     },
     "execution_count": 98,
     "metadata": {},
     "output_type": "execute_result"
    }
   ],
   "source": [
    "from sklearn.svm import SVC\n",
    "from sklearn.model_selection import cross_val_predict\n",
    "svc_cls = make_pipeline(preprocessing, SVC(C=10, gamma='auto', class_weight='balanced'))\n",
    "\n",
    "y_pred_svc = cross_val_predict(svc_cls, prestamostrain, prestamostrain_labels, cv=3)\n",
    "\n",
    "y_pred_svc[:10]"
   ]
  },
  {
   "cell_type": "code",
   "execution_count": 99,
   "id": "5dbd8b43-ccd7-43a3-b842-57f0a37a431c",
   "metadata": {},
   "outputs": [
    {
     "name": "stdout",
     "output_type": "stream",
     "text": [
      "Precisión: 0.7709251101321586\n",
      "Recall: 0.8215962441314554\n",
      "Accuracy: 0.7039473684210527\n",
      "Matriz de confusión:\n",
      " [[ 39  52]\n",
      " [ 38 175]]\n",
      "Reporte de clasificación:\n",
      "               precision    recall  f1-score   support\n",
      "\n",
      "           0       0.51      0.43      0.46        91\n",
      "           1       0.77      0.82      0.80       213\n",
      "\n",
      "    accuracy                           0.70       304\n",
      "   macro avg       0.64      0.63      0.63       304\n",
      "weighted avg       0.69      0.70      0.70       304\n",
      "\n"
     ]
    }
   ],
   "source": [
    "precision_svc = precision_score(prestamostrain_labels, y_pred_svc)\n",
    "recall_svc = recall_score(prestamostrain_labels, y_pred_svc)\n",
    "accuracy_svc = accuracy_score(prestamostrain_labels, y_pred_svc)\n",
    "\n",
    "print(f\"Precisión: {precision_svc}\")\n",
    "print(f\"Recall: {recall_svc}\")\n",
    "print(f\"Accuracy: {accuracy_svc}\")\n",
    "\n",
    "print(\"Matriz de confusión:\\n\", confusion_matrix(prestamostrain_labels, y_pred_svc))\n",
    "print(\"Reporte de clasificación:\\n\", classification_report(prestamostrain_labels, y_pred_svc))"
   ]
  },
  {
   "cell_type": "markdown",
   "id": "8a0b760b-6502-4857-9188-98d1baa8a8a1",
   "metadata": {},
   "source": [
    "## Random Forest"
   ]
  },
  {
   "cell_type": "code",
   "execution_count": 100,
   "id": "383bd4dc-ce71-41a4-a049-cafbe05e2c75",
   "metadata": {},
   "outputs": [],
   "source": [
    "from sklearn.ensemble import RandomForestClassifier\n",
    " \n",
    "forest_clf = make_pipeline(\n",
    "    preprocessing,\n",
    "    RandomForestClassifier(random_state=42)\n",
    ")"
   ]
  },
  {
   "cell_type": "code",
   "execution_count": 101,
   "id": "1c90f03a-3b58-4d15-a7a4-d9592ba8e92f",
   "metadata": {},
   "outputs": [],
   "source": [
    "y_pred_forest = cross_val_predict(forest_clf, prestamostrain, prestamostrain_labels, cv=10)"
   ]
  },
  {
   "cell_type": "code",
   "execution_count": 102,
   "id": "28d92fd6-88bc-4a3d-8fcd-4bc3ef91089b",
   "metadata": {},
   "outputs": [
    {
     "data": {
      "text/plain": [
       "array([1, 0, 1, 0, 1, 1, 1, 1, 0, 1, 0, 1, 1, 1, 1, 1, 0, 1, 1, 1, 1, 1,\n",
       "       1, 1, 1, 1, 0, 1, 1, 1, 1, 1, 1, 1, 1, 1, 1, 1, 1, 1, 1, 1, 1, 1,\n",
       "       1, 1, 1, 0, 0, 1, 1, 1, 1, 1, 1, 1, 1, 1, 1, 1, 1, 1, 1, 1, 0, 0,\n",
       "       1, 1, 1, 1, 1, 1, 0, 0, 1, 1, 0, 1, 1, 1, 0, 1, 1, 1, 1, 1, 1, 1,\n",
       "       1, 0, 1, 1, 1, 1, 1, 1, 1, 1, 1, 1, 1, 1, 1, 1, 0, 1, 1, 1, 1, 1,\n",
       "       1, 0, 1, 1, 1, 1, 1, 0, 1, 1, 1, 1, 1, 0, 1, 1, 1, 1, 0, 1, 0, 1,\n",
       "       1, 1, 1, 0, 1, 1, 1, 0, 1, 1, 1, 1, 1, 1, 1, 0, 0, 1, 1, 0, 1, 1,\n",
       "       1, 1, 1, 1, 1, 0, 1, 0, 1, 1, 1, 1, 1, 0, 1, 1, 1, 0, 1, 1, 0, 1,\n",
       "       1, 1, 1, 1, 1, 0, 1, 1, 0, 1, 0, 1, 1, 1, 0, 1, 1, 1, 1, 1, 0, 0,\n",
       "       0, 1, 1, 0, 1, 1, 1, 1, 1, 0, 1, 1, 1, 1, 1, 1, 1, 1, 1, 1, 0, 1,\n",
       "       1, 1, 0, 0, 1, 1, 1, 0, 0, 1, 0, 1, 1, 1, 1, 1, 1, 1, 1, 1, 1, 0,\n",
       "       1, 1, 1, 1, 1, 1, 1, 0, 1, 1, 0, 1, 1, 1, 1, 1, 1, 1, 1, 1, 1, 1,\n",
       "       1, 1, 0, 1, 0, 0, 1, 0, 1, 1, 0, 1, 1, 1, 1, 1, 1, 1, 1, 1, 0, 0,\n",
       "       1, 1, 1, 1, 1, 1, 1, 0, 0, 1, 1, 1, 1, 1, 1, 1, 1, 1], dtype=int64)"
      ]
     },
     "execution_count": 102,
     "metadata": {},
     "output_type": "execute_result"
    }
   ],
   "source": [
    "y_pred_forest"
   ]
  },
  {
   "cell_type": "code",
   "execution_count": 103,
   "id": "56ac63e8-083a-4d66-9f91-c193c639676f",
   "metadata": {},
   "outputs": [],
   "source": [
    "# Random Forest no tiene decision_function, pero si genera la probabilidad de pertenecer a cada clase. \n",
    "y_probas_forest = cross_val_predict(forest_clf, prestamostrain, prestamostrain_labels, cv=3,\n",
    "                                    method=\"predict_proba\")"
   ]
  },
  {
   "cell_type": "code",
   "execution_count": 104,
   "id": "d5997192-f0ac-434d-adc7-f157b836d0d7",
   "metadata": {},
   "outputs": [
    {
     "data": {
      "text/plain": [
       "array([[0.15, 0.85],\n",
       "       [0.27, 0.73],\n",
       "       [0.19, 0.81],\n",
       "       [0.59, 0.41],\n",
       "       [0.27, 0.73],\n",
       "       [0.08, 0.92],\n",
       "       [0.14, 0.86],\n",
       "       [0.26, 0.74],\n",
       "       [0.76, 0.24],\n",
       "       [0.07, 0.93]])"
      ]
     },
     "execution_count": 104,
     "metadata": {},
     "output_type": "execute_result"
    }
   ],
   "source": [
    "y_probas_forest[:10]"
   ]
  },
  {
   "cell_type": "code",
   "execution_count": 105,
   "id": "45072118-6a56-4150-b03f-8eecf3b1cb56",
   "metadata": {},
   "outputs": [],
   "source": [
    "from sklearn.metrics import precision_score, recall_score, accuracy_score\n",
    "forest_presicion = precision_score(prestamostrain_labels,y_pred_forest, average='macro')"
   ]
  },
  {
   "cell_type": "code",
   "execution_count": 106,
   "id": "bb253cc6-1eae-4048-a92c-c842dc93b597",
   "metadata": {},
   "outputs": [
    {
     "data": {
      "text/plain": [
       "0.7837818895430333"
      ]
     },
     "execution_count": 106,
     "metadata": {},
     "output_type": "execute_result"
    }
   ],
   "source": [
    "forest_presicion"
   ]
  },
  {
   "cell_type": "code",
   "execution_count": 107,
   "id": "4fbd00a6-8b8f-4d37-9573-9f2289a2c3e2",
   "metadata": {},
   "outputs": [
    {
     "name": "stdout",
     "output_type": "stream",
     "text": [
      "Accuracy: 0.7993421052631579\n"
     ]
    }
   ],
   "source": [
    "from sklearn.metrics import precision_score, recall_score, accuracy_score\n",
    "\n",
    "# Calcular métricas\n",
    "accuracy = accuracy_score(prestamostrain_labels, y_pred_forest)\n",
    "\n",
    "print(f\"Accuracy: {accuracy}\")"
   ]
  },
  {
   "cell_type": "code",
   "execution_count": 108,
   "id": "9c51e07d-a556-4b31-b92b-d3ed3d179baa",
   "metadata": {},
   "outputs": [
    {
     "name": "stdout",
     "output_type": "stream",
     "text": [
      "Precisión en test: 0.8465160075329567\n"
     ]
    }
   ],
   "source": [
    "# Entrenar en todo el conjunto de entrenamiento\n",
    "forest_clf.fit(prestamostrain, prestamostrain_labels)\n",
    "\n",
    "# Predecir en el conjunto de prueba\n",
    "prestamostest = strat_test_set.drop(\"Loan_Status\", axis=1)\n",
    "prestamostest_labels = strat_test_set[\"Loan_Status\"].copy()\n",
    "\n",
    "y_pred_test = forest_clf.predict(prestamostest)\n",
    "\n",
    "# Evaluar en el conjunto de prueba\n",
    "test_precision = precision_score(prestamostest_labels, y_pred_test, average='macro')\n",
    "print(f\"Precisión en test: {test_precision}\")"
   ]
  },
  {
   "cell_type": "code",
   "execution_count": 109,
   "id": "755b2e8e-adef-4d75-a4e0-cc33b390ad17",
   "metadata": {},
   "outputs": [
    {
     "name": "stdout",
     "output_type": "stream",
     "text": [
      "Accuracy: 0.7993421052631579\n"
     ]
    }
   ],
   "source": [
    "print(\"Accuracy:\", accuracy_score(prestamostrain_labels, y_pred_forest))"
   ]
  },
  {
   "cell_type": "markdown",
   "id": "c14ad4c0-ea9a-4276-87d3-bbb89013160f",
   "metadata": {},
   "source": [
    "## LogisticRegression"
   ]
  },
  {
   "cell_type": "code",
   "execution_count": 110,
   "id": "3bc8fd6a-8955-497a-8dde-ec2b974c8bd6",
   "metadata": {},
   "outputs": [
    {
     "name": "stdout",
     "output_type": "stream",
     "text": [
      "Predicciones de clase: [1 1 1 0 1]\n",
      "Probabilidades: [0.76596558 0.74870967 0.80463349 0.49201319 0.67432929]\n"
     ]
    }
   ],
   "source": [
    "from sklearn.linear_model import LogisticRegression\n",
    "from sklearn.pipeline import make_pipeline\n",
    "from sklearn.linear_model import LogisticRegression\n",
    "\n",
    "# Usar regresión logística en lugar de lineal\n",
    "log_reg = make_pipeline(preprocessing, LogisticRegression(max_iter=2000))\n",
    "\n",
    "\n",
    "# Predicciones de clase\n",
    "y_pred = cross_val_predict(log_reg, prestamostrain, prestamostrain_labels, cv=3)\n",
    "print(\"Predicciones de clase:\", y_pred[:5])\n",
    "\n",
    "# Predicciones de probabilidad\n",
    "y_proba = cross_val_predict(log_reg, prestamostrain, prestamostrain_labels, cv=3, method='predict_proba')[:, 1]\n",
    "print(\"Probabilidades:\", y_proba[:5])"
   ]
  },
  {
   "cell_type": "code",
   "execution_count": 111,
   "id": "6e8d3796-3454-45c8-918d-ae13f146e179",
   "metadata": {},
   "outputs": [
    {
     "name": "stdout",
     "output_type": "stream",
     "text": [
      "Accuracy: 0.8223684210526315\n",
      "Matriz de confusión:\n",
      " [[ 46  45]\n",
      " [  9 204]]\n",
      "Reporte de clasificación:\n",
      "               precision    recall  f1-score   support\n",
      "\n",
      "           0       0.84      0.51      0.63        91\n",
      "           1       0.82      0.96      0.88       213\n",
      "\n",
      "    accuracy                           0.82       304\n",
      "   macro avg       0.83      0.73      0.76       304\n",
      "weighted avg       0.82      0.82      0.81       304\n",
      "\n"
     ]
    }
   ],
   "source": [
    "from sklearn.metrics import accuracy_score, confusion_matrix, classification_report\n",
    "\n",
    "print(\"Accuracy:\", accuracy_score(prestamostrain_labels, y_pred))\n",
    "print(\"Matriz de confusión:\\n\", confusion_matrix(prestamostrain_labels, y_pred))\n",
    "print(\"Reporte de clasificación:\\n\", classification_report(prestamostrain_labels, y_pred))"
   ]
  },
  {
   "cell_type": "code",
   "execution_count": 112,
   "id": "8ed04d26-796c-4f17-966e-3c5b9ccec9fb",
   "metadata": {},
   "outputs": [
    {
     "name": "stdout",
     "output_type": "stream",
     "text": [
      "Loan_Status          1.000000\n",
      "Credit_History       0.581380\n",
      "LoanAmount           0.017546\n",
      "CoapplicantIncome    0.013778\n",
      "ApplicantIncome      0.012895\n",
      "Loan_Amount_Term    -0.073363\n",
      "Name: Loan_Status, dtype: float64\n"
     ]
    }
   ],
   "source": [
    "df = prestamostrain.copy()\n",
    "df[\"Loan_Status\"] = prestamostrain_labels\n",
    "\n",
    "correlaciones = df.corr(numeric_only=True)[\"Loan_Status\"].sort_values(ascending=False)\n",
    "print(correlaciones)"
   ]
  },
  {
   "cell_type": "markdown",
   "id": "8f283635-c6b1-4675-a6a5-27993cdf7639",
   "metadata": {},
   "source": [
    "## Afinamiento de datos"
   ]
  },
  {
   "cell_type": "markdown",
   "id": "5de3dfb6-c083-4bd4-9694-9ac7008eab7c",
   "metadata": {},
   "source": [
    "## GridSearchCV"
   ]
  },
  {
   "cell_type": "code",
   "execution_count": 115,
   "id": "7e615770-6edb-41f2-a634-ce6c3625402c",
   "metadata": {},
   "outputs": [],
   "source": [
    "from sklearn.model_selection import GridSearchCV"
   ]
  },
  {
   "cell_type": "code",
   "execution_count": 116,
   "id": "357af49a-7042-46b1-a92d-28e9c16c6fe1",
   "metadata": {},
   "outputs": [],
   "source": [
    "param_grid = {\n",
    "    \"randomforestclassifier__n_estimators\": [200, 300],\n",
    "    \"randomforestclassifier__max_depth\": [5, 10, 15],  \n",
    "    \"randomforestclassifier__max_features\": [\"sqrt\", \"log2\"],  \n",
    "    \"randomforestclassifier__min_samples_split\": [5, 10], \n",
    "    \"randomforestclassifier__min_samples_leaf\": [2, 4],  \n",
    "    \"randomforestclassifier__class_weight\": [\"balanced\"] \n",
    "}\n",
    "\n",
    "grid_search = GridSearchCV(forest_clf, param_grid, cv=15)"
   ]
  },
  {
   "cell_type": "code",
   "execution_count": 117,
   "id": "612626f6-f0ec-42ea-bcaa-5cccdadbd60f",
   "metadata": {},
   "outputs": [
    {
     "data": {
      "text/plain": [
       "1.925028963883718"
      ]
     },
     "execution_count": 117,
     "metadata": {},
     "output_type": "execute_result"
    }
   ],
   "source": [
    "import time\n",
    " \n",
    "inicio = time.time()\n",
    "grid_search.fit(prestamostrain,  prestamostrain_labels) \n",
    "fin = time.time()\n",
    "(fin - inicio) / 60 "
   ]
  },
  {
   "cell_type": "code",
   "execution_count": 118,
   "id": "fea0daaf-cebf-4a08-a146-7d0cfc364505",
   "metadata": {},
   "outputs": [],
   "source": [
    "cv_res = pd.DataFrame(grid_search.cv_results_)"
   ]
  },
  {
   "cell_type": "code",
   "execution_count": 119,
   "id": "51d0dcf6-274d-46de-bd9d-b407ec2768fc",
   "metadata": {},
   "outputs": [
    {
     "data": {
      "text/html": [
       "<div>\n",
       "<style scoped>\n",
       "    .dataframe tbody tr th:only-of-type {\n",
       "        vertical-align: middle;\n",
       "    }\n",
       "\n",
       "    .dataframe tbody tr th {\n",
       "        vertical-align: top;\n",
       "    }\n",
       "\n",
       "    .dataframe thead th {\n",
       "        text-align: right;\n",
       "    }\n",
       "</style>\n",
       "<table border=\"1\" class=\"dataframe\">\n",
       "  <thead>\n",
       "    <tr style=\"text-align: right;\">\n",
       "      <th></th>\n",
       "      <th>mean_fit_time</th>\n",
       "      <th>std_fit_time</th>\n",
       "      <th>mean_score_time</th>\n",
       "      <th>std_score_time</th>\n",
       "      <th>param_randomforestclassifier__class_weight</th>\n",
       "      <th>param_randomforestclassifier__max_depth</th>\n",
       "      <th>param_randomforestclassifier__max_features</th>\n",
       "      <th>param_randomforestclassifier__min_samples_leaf</th>\n",
       "      <th>param_randomforestclassifier__min_samples_split</th>\n",
       "      <th>param_randomforestclassifier__n_estimators</th>\n",
       "      <th>...</th>\n",
       "      <th>split8_test_score</th>\n",
       "      <th>split9_test_score</th>\n",
       "      <th>split10_test_score</th>\n",
       "      <th>split11_test_score</th>\n",
       "      <th>split12_test_score</th>\n",
       "      <th>split13_test_score</th>\n",
       "      <th>split14_test_score</th>\n",
       "      <th>mean_test_score</th>\n",
       "      <th>std_test_score</th>\n",
       "      <th>rank_test_score</th>\n",
       "    </tr>\n",
       "  </thead>\n",
       "  <tbody>\n",
       "    <tr>\n",
       "      <th>0</th>\n",
       "      <td>0.119381</td>\n",
       "      <td>0.001591</td>\n",
       "      <td>0.009076</td>\n",
       "      <td>0.000389</td>\n",
       "      <td>balanced</td>\n",
       "      <td>5</td>\n",
       "      <td>sqrt</td>\n",
       "      <td>2</td>\n",
       "      <td>5</td>\n",
       "      <td>200</td>\n",
       "      <td>...</td>\n",
       "      <td>0.8</td>\n",
       "      <td>0.85</td>\n",
       "      <td>0.80</td>\n",
       "      <td>0.9</td>\n",
       "      <td>0.8</td>\n",
       "      <td>0.80</td>\n",
       "      <td>0.9</td>\n",
       "      <td>0.800476</td>\n",
       "      <td>0.073675</td>\n",
       "      <td>7</td>\n",
       "    </tr>\n",
       "    <tr>\n",
       "      <th>1</th>\n",
       "      <td>0.174077</td>\n",
       "      <td>0.014808</td>\n",
       "      <td>0.010417</td>\n",
       "      <td>0.000422</td>\n",
       "      <td>balanced</td>\n",
       "      <td>5</td>\n",
       "      <td>sqrt</td>\n",
       "      <td>2</td>\n",
       "      <td>5</td>\n",
       "      <td>300</td>\n",
       "      <td>...</td>\n",
       "      <td>0.8</td>\n",
       "      <td>0.85</td>\n",
       "      <td>0.80</td>\n",
       "      <td>0.9</td>\n",
       "      <td>0.8</td>\n",
       "      <td>0.80</td>\n",
       "      <td>0.9</td>\n",
       "      <td>0.800476</td>\n",
       "      <td>0.073675</td>\n",
       "      <td>7</td>\n",
       "    </tr>\n",
       "    <tr>\n",
       "      <th>2</th>\n",
       "      <td>0.123974</td>\n",
       "      <td>0.006294</td>\n",
       "      <td>0.010244</td>\n",
       "      <td>0.002610</td>\n",
       "      <td>balanced</td>\n",
       "      <td>5</td>\n",
       "      <td>sqrt</td>\n",
       "      <td>2</td>\n",
       "      <td>10</td>\n",
       "      <td>200</td>\n",
       "      <td>...</td>\n",
       "      <td>0.8</td>\n",
       "      <td>0.85</td>\n",
       "      <td>0.85</td>\n",
       "      <td>0.9</td>\n",
       "      <td>0.8</td>\n",
       "      <td>0.80</td>\n",
       "      <td>0.9</td>\n",
       "      <td>0.803968</td>\n",
       "      <td>0.080450</td>\n",
       "      <td>1</td>\n",
       "    </tr>\n",
       "    <tr>\n",
       "      <th>3</th>\n",
       "      <td>0.169766</td>\n",
       "      <td>0.002120</td>\n",
       "      <td>0.010274</td>\n",
       "      <td>0.000442</td>\n",
       "      <td>balanced</td>\n",
       "      <td>5</td>\n",
       "      <td>sqrt</td>\n",
       "      <td>2</td>\n",
       "      <td>10</td>\n",
       "      <td>300</td>\n",
       "      <td>...</td>\n",
       "      <td>0.8</td>\n",
       "      <td>0.85</td>\n",
       "      <td>0.85</td>\n",
       "      <td>0.9</td>\n",
       "      <td>0.8</td>\n",
       "      <td>0.80</td>\n",
       "      <td>0.9</td>\n",
       "      <td>0.803968</td>\n",
       "      <td>0.080450</td>\n",
       "      <td>1</td>\n",
       "    </tr>\n",
       "    <tr>\n",
       "      <th>4</th>\n",
       "      <td>0.121032</td>\n",
       "      <td>0.002996</td>\n",
       "      <td>0.009125</td>\n",
       "      <td>0.000740</td>\n",
       "      <td>balanced</td>\n",
       "      <td>5</td>\n",
       "      <td>sqrt</td>\n",
       "      <td>4</td>\n",
       "      <td>5</td>\n",
       "      <td>200</td>\n",
       "      <td>...</td>\n",
       "      <td>0.8</td>\n",
       "      <td>0.85</td>\n",
       "      <td>0.80</td>\n",
       "      <td>0.9</td>\n",
       "      <td>0.8</td>\n",
       "      <td>0.75</td>\n",
       "      <td>0.9</td>\n",
       "      <td>0.793968</td>\n",
       "      <td>0.074540</td>\n",
       "      <td>15</td>\n",
       "    </tr>\n",
       "  </tbody>\n",
       "</table>\n",
       "<p>5 rows × 29 columns</p>\n",
       "</div>"
      ],
      "text/plain": [
       "   mean_fit_time  std_fit_time  mean_score_time  std_score_time  \\\n",
       "0       0.119381      0.001591         0.009076        0.000389   \n",
       "1       0.174077      0.014808         0.010417        0.000422   \n",
       "2       0.123974      0.006294         0.010244        0.002610   \n",
       "3       0.169766      0.002120         0.010274        0.000442   \n",
       "4       0.121032      0.002996         0.009125        0.000740   \n",
       "\n",
       "  param_randomforestclassifier__class_weight  \\\n",
       "0                                   balanced   \n",
       "1                                   balanced   \n",
       "2                                   balanced   \n",
       "3                                   balanced   \n",
       "4                                   balanced   \n",
       "\n",
       "   param_randomforestclassifier__max_depth  \\\n",
       "0                                        5   \n",
       "1                                        5   \n",
       "2                                        5   \n",
       "3                                        5   \n",
       "4                                        5   \n",
       "\n",
       "  param_randomforestclassifier__max_features  \\\n",
       "0                                       sqrt   \n",
       "1                                       sqrt   \n",
       "2                                       sqrt   \n",
       "3                                       sqrt   \n",
       "4                                       sqrt   \n",
       "\n",
       "   param_randomforestclassifier__min_samples_leaf  \\\n",
       "0                                               2   \n",
       "1                                               2   \n",
       "2                                               2   \n",
       "3                                               2   \n",
       "4                                               4   \n",
       "\n",
       "   param_randomforestclassifier__min_samples_split  \\\n",
       "0                                                5   \n",
       "1                                                5   \n",
       "2                                               10   \n",
       "3                                               10   \n",
       "4                                                5   \n",
       "\n",
       "   param_randomforestclassifier__n_estimators  ... split8_test_score  \\\n",
       "0                                         200  ...               0.8   \n",
       "1                                         300  ...               0.8   \n",
       "2                                         200  ...               0.8   \n",
       "3                                         300  ...               0.8   \n",
       "4                                         200  ...               0.8   \n",
       "\n",
       "   split9_test_score  split10_test_score  split11_test_score  \\\n",
       "0               0.85                0.80                 0.9   \n",
       "1               0.85                0.80                 0.9   \n",
       "2               0.85                0.85                 0.9   \n",
       "3               0.85                0.85                 0.9   \n",
       "4               0.85                0.80                 0.9   \n",
       "\n",
       "   split12_test_score  split13_test_score  split14_test_score  \\\n",
       "0                 0.8                0.80                 0.9   \n",
       "1                 0.8                0.80                 0.9   \n",
       "2                 0.8                0.80                 0.9   \n",
       "3                 0.8                0.80                 0.9   \n",
       "4                 0.8                0.75                 0.9   \n",
       "\n",
       "   mean_test_score  std_test_score  rank_test_score  \n",
       "0         0.800476        0.073675                7  \n",
       "1         0.800476        0.073675                7  \n",
       "2         0.803968        0.080450                1  \n",
       "3         0.803968        0.080450                1  \n",
       "4         0.793968        0.074540               15  \n",
       "\n",
       "[5 rows x 29 columns]"
      ]
     },
     "execution_count": 119,
     "metadata": {},
     "output_type": "execute_result"
    }
   ],
   "source": [
    "cv_res[:5]"
   ]
  },
  {
   "cell_type": "code",
   "execution_count": 120,
   "id": "68b9d637-61d1-4efb-9926-cf8746ac8acb",
   "metadata": {},
   "outputs": [
    {
     "name": "stdout",
     "output_type": "stream",
     "text": [
      "{'randomforestclassifier__class_weight': 'balanced', 'randomforestclassifier__max_depth': 5, 'randomforestclassifier__max_features': 'sqrt', 'randomforestclassifier__min_samples_leaf': 2, 'randomforestclassifier__min_samples_split': 10, 'randomforestclassifier__n_estimators': 200}\n",
      "0.8039682539682541\n"
     ]
    }
   ],
   "source": [
    "#mejores parametros\n",
    "print(grid_search.best_params_)\n",
    "print(grid_search.best_score_)"
   ]
  },
  {
   "cell_type": "markdown",
   "id": "49c9f4d3-d609-40d3-9ccd-93043e2623ed",
   "metadata": {},
   "source": [
    "# Evaluar el modelo con el \"test set\""
   ]
  },
  {
   "cell_type": "code",
   "execution_count": 121,
   "id": "8c80118d-7a0e-42a1-9591-cd4d12a903b7",
   "metadata": {},
   "outputs": [
    {
     "name": "stdout",
     "output_type": "stream",
     "text": [
      " Resultados en Test Set:\n",
      "Accuracy     : 0.8961\n"
     ]
    }
   ],
   "source": [
    "from sklearn.metrics import accuracy_score, log_loss\n",
    "from sklearn.utils import resample\n",
    "import numpy as np\n",
    "\n",
    "\n",
    "final_model = grid_search.best_estimator_\n",
    "\n",
    "\n",
    "X_test = strat_test_set.drop(\"Loan_Status\", axis=1)\n",
    "y_test = strat_test_set[\"Loan_Status\"]\n",
    "\n",
    "\n",
    "final_predictions = final_model.predict(X_test)\n",
    "final_proba = final_model.predict_proba(X_test)[:, 1]\n",
    "\n",
    "\n",
    "accuracy = accuracy_score(y_test, final_predictions)\n",
    "print(\" Resultados en Test Set:\")\n",
    "print(f\"Accuracy     : {accuracy:.4f}\")"
   ]
  },
  {
   "cell_type": "code",
   "execution_count": 122,
   "id": "5f1dd351-69f1-4910-8672-7693d757411a",
   "metadata": {},
   "outputs": [
    {
     "name": "stdout",
     "output_type": "stream",
     "text": [
      "\n",
      "IC 95% del Log Loss (bootstrap): [0.3911, 0.5104]\n"
     ]
    }
   ],
   "source": [
    "n_bootstraps = 1000\n",
    "logloss_bootstrap = []\n",
    "\n",
    "for _ in range(n_bootstraps):\n",
    "    X_resampled, y_resampled = resample(X_test, y_test)\n",
    "    \n",
    "    probs_resampled = final_model.predict_proba(X_resampled)[:, 1]\n",
    "    \n",
    "    logloss_resampled = log_loss(y_resampled, probs_resampled)\n",
    "    logloss_bootstrap.append(logloss_resampled)\n",
    "\n",
    "lower = np.percentile(logloss_bootstrap, 2.5)\n",
    "upper = np.percentile(logloss_bootstrap, 97.5)\n",
    "\n",
    "print(f\"\\nIC 95% del Log Loss (bootstrap): [{lower:.4f}, {upper:.4f}]\")"
   ]
  }
 ],
 "metadata": {
  "kernelspec": {
   "display_name": "Python [conda env:base] *",
   "language": "python",
   "name": "conda-base-py"
  },
  "language_info": {
   "codemirror_mode": {
    "name": "ipython",
    "version": 3
   },
   "file_extension": ".py",
   "mimetype": "text/x-python",
   "name": "python",
   "nbconvert_exporter": "python",
   "pygments_lexer": "ipython3",
   "version": "3.12.7"
  }
 },
 "nbformat": 4,
 "nbformat_minor": 5
}
