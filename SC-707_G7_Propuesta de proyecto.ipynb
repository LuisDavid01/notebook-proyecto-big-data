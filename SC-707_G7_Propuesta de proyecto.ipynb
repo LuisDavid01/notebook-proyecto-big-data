{
 "cells": [
  {
   "cell_type": "markdown",
   "id": "b1e0ea23",
   "metadata": {},
   "source": [
    "<center>\n",
    "\n",
    "# Predicción de aprobacion de un préstamo\n",
    "\n",
    "</center>"
   ]
  },
  {
   "cell_type": "code",
   "execution_count": null,
   "id": "b4706d8e-bf42-47fe-9216-ce1ced3af769",
   "metadata": {},
   "outputs": [],
   "source": []
  },
  {
   "cell_type": "markdown",
   "id": "74e2da41",
   "metadata": {},
   "source": [
    "##  Introducción"
   ]
  },
  {
   "cell_type": "markdown",
   "id": "3e07129f",
   "metadata": {},
   "source": [
    "*Aquí va la introducción. Se redacta cuando el proyecto esté listo.*"
   ]
  },
  {
   "cell_type": "markdown",
   "id": "c2e6fbe7",
   "metadata": {},
   "source": [
    "##  Antecedentes"
   ]
  },
  {
   "cell_type": "markdown",
   "id": "07150e27",
   "metadata": {},
   "source": [
    "En el ámbito de los servicios financieros, las entidades bancarias y crediticias deben evaluar cuidadosamente a los solicitantes de préstamos para tomar decisiones informadas sobre su aprobación. Diversas variables relacionadas con las características personales, laborales y financieras de los solicitantes influyen directamente en la probabilidad de que un préstamo sea aprobado. Factores como el ingreso mensual, el historial crediticio, el estado civil, el tipo de empleo, el monto solicitado y el número de dependientes pueden tener un impacto significativo en la decisión final.\n",
    "\n",
    "Con base en esta información, las instituciones financieras buscan optimizar sus procesos de evaluación de riesgo crediticio. Para ello, recurren al uso de técnicas de Machine Learning, que permiten construir modelos predictivos capaces de estimar la probabilidad de aprobación de un préstamo a partir de las características del solicitante. Esto no solo mejora la eficiencia operativa, sino que también contribuye a una asignación más justa y precisa del crédito."
   ]
  },
  {
   "cell_type": "markdown",
   "id": "a116c988",
   "metadata": {},
   "source": [
    "## Definición del problema"
   ]
  },
  {
   "cell_type": "markdown",
   "id": "62c49778",
   "metadata": {},
   "source": [
    "Las entidades financieras que otorgan préstamos personales enfrentan el desafío de estimar con precisión la probabilidad de aprobación de una solicitud de crédito. Si bien existen múltiples factores que pueden influir en esta decisión como el ingreso del solicitante, su historial crediticio, el monto del préstamo solicitado o el número de dependientes no siempre es evidente cuáles son los más determinantes ni cómo interactúan entre sí. Esta falta de claridad, junto con la ausencia de insumos analíticos confiables para medir el riesgo del préstamo, complica significativamente la labor de estas instituciones. En particular, dificulta la evaluación precisa del riesgo crediticio, la asignación eficiente del crédito y la personalización adecuada de productos financieros, lo que puede derivar en decisiones erróneas, aumento de la morosidad y pérdida de competitividad en el mercado. \n"
   ]
  },
  {
   "cell_type": "markdown",
   "id": "2875fc8b",
   "metadata": {},
   "source": [
    "## Justificación "
   ]
  },
  {
   "cell_type": "markdown",
   "id": "dbc1708d",
   "metadata": {},
   "source": [
    "El desarrollo de un modelo predictivo que analice los factores personales y financieros de los solicitantes que tienen mayor influencia en la aprobación de préstamos, representa una herramienta de gran valor estratégico para las instituciones financieras. Al identificar con mayor precisión las variables más determinantes en la decisión crediticia, este tipo de modelo facilita los procesos de evaluación del riesgo, permitiendo una asignación de crédito más informada y eficiente. \n",
    "\n",
    "Además, la capacidad de predecir el riesgo asociado a cada solicitud facilita la creación de productos crediticios más personalizados, justos y alineados con el perfil de cada cliente, mejorando tanto la experiencia del usuario como la rentabilidad de la entidad. De esta manera, se promueve una toma de decisiones más estratégica y basada en datos, lo cual es fundamental en un entorno financiero cada vez más competitivo y orientado a la gestión proactiva del riesgo. \n",
    "\n"
   ]
  },
  {
   "cell_type": "markdown",
   "id": "6ba2e910",
   "metadata": {},
   "source": [
    "## Objetivo general"
   ]
  },
  {
   "cell_type": "markdown",
   "id": "cdf9b686",
   "metadata": {},
   "source": [
    "Desarrollar un modelo de aprendizaje automático que prediga la aprobación o rechazo de una solicitud de préstamo personal, con el fin de apoyar a las instituciones financieras en la toma de decisiones estratégicas relacionadas con la evaluación de riesgos, la asignación de crédito y la personalización de productos financieros, basándose en las características personales, laborales y financieras de los solicitantes."
   ]
  },
  {
   "cell_type": "markdown",
   "id": "082cc461",
   "metadata": {},
   "source": [
    "### Objetivos específicos"
   ]
  },
  {
   "cell_type": "markdown",
   "id": "7bbb6735",
   "metadata": {},
   "source": [
    "- Realizar un análisis exploratorio del conjunto de datos de Loan Status Prediction para depurar datos, identificar patrones y relaciones entre las variables.\n",
    "- Entrenar modelos predictivos utilizando algoritmos de regresión para encontrar la variable objetivo Loan_Status: Loan approved (Y/N).\n",
    "- Evaluar el rendimiento de los modelos para medir la precisión de las predicciones y seleccionar el que tenga el mejor desempeño.\n",
    "- Realizar la optimización de hiperparámetros del modelo selecionado para mejorar su rendimiento.\n",
    "- Desarrollar un sistema automatizado que permita utilizar las predicciones del modelo para predecir la variable objetivo Loan_Status: Loan approved (Y/N).\n",
    "\n"
   ]
  },
  {
   "cell_type": "markdown",
   "id": "de43d68f",
   "metadata": {},
   "source": [
    "## Descripción del conjunto de datos\n",
    "Este conjunto de datos disponible en Kaggle contiene información sobre solicitudes de préstamos personales y cada fila representa a un solicitante, incluyendo datos como:\n",
    "- El ingreso del solicitante y ingreso del co-solicitante\n",
    "- El monto del préstamo\n",
    "- El historial crediticio, el estado civil y el tipo de empleo\n",
    "- El estado del préstamo (aprobado o rechazado)\n",
    "Este dataset nos permite analizar qué características influyen más en la aprobación de un préstamo personal.\n",
    "\n",
    "## Características del Dataset\n",
    "- Datos numéricos: Tiene números como el ingreso del solicitante, el ingreso del co-solicitante, el monto del préstamo y el historial crediticio.\n",
    "- Datos categóricos: Incluye cosas como el estado civil, el tipo de empleo y el estado del préstamo (aprobado/rechazado).\n",
    "- Variedad de datos: Es un dataset que mezcla datos fáciles de organizar (como números y categorías) con otros más variados como características personales, lo que lo hace interesante para analizar desde diferentes perspectivas.\n",
    "\n",
    "### Resumen:\n",
    "- Loan_ID: Identificador único del préstamo. (Cadena de texto)\n",
    "- Gender: Género del solicitante (Male/Female). (Cadena de texto)\n",
    "- Married: Estado civil (Yes/No). (Cadena de texto)\n",
    "- Dependents: Número de personas dependientes. (Cadena de texto o entero)\n",
    "- Education: Nivel educativo (Graduate/Not Graduate). (Cadena de texto)\n",
    "- Self_Employed: Trabajador independiente (Yes/No). (Cadena de texto)\n",
    "- ApplicantIncome: Ingreso del solicitante. (Entero)\n",
    "- CoapplicantIncome: Ingreso del co-solicitante. (Entero)\n",
    "- LoanAmount: Monto del préstamo (en miles). (Decimal)\n",
    "- Loan_Amount_Term: Plazo del préstamo (en meses). (Entero)\n",
    "- Credit_History: Historial crediticio (1 = cumple, 0 = no cumple). (Entero)\n",
    "- Property_Area: Zona de residencia (Urban/Semiurban/Rural). (Cadena de texto)\n",
    "- Employment_Type: Tipo de empleo. (Cadena de texto)\n",
    "- Loan_Status: Estado del préstamo (Y = Aprobado, N = Rechazado). (Cadena de texto - variable objetivo) >> Variable objetivo\n",
    "\n",
    "\n",
    "## Tamaño del Dataset\n",
    "- 614 registros (solicitantes de préstamos)\n",
    "- 13 columnas con distintas características personales y financieras \n",
    "\n",
    "## Limitaciones\n",
    "- No incluye información detallada sobre el historial crediticio\n",
    "- Puede haber sesgos en la distribución de datos (por ejemplo, más solicitantes aprobados que rechazados)\n",
    "- No se especifica el año de recolección de los datos, lo que limita el análisis temporal\n",
    "\n",
    "## Acceso al Dataset\n",
    "El conjunto de datos está disponible públicamente en la plataforma Kaggle, bajo el nombre \"Loan Status Prediction Dataset\".\n",
    "Enlace: https://www.kaggle.com/datasets/bhavikjikadara/loan-status-prediction\n"
   ]
  },
  {
   "cell_type": "markdown",
   "id": "e0a7ff06",
   "metadata": {},
   "source": [
    "## Muestra del Dataset"
   ]
  },
  {
   "cell_type": "code",
   "execution_count": 111,
   "id": "13ae3669",
   "metadata": {},
   "outputs": [],
   "source": [
    "import sys\n",
    "import sklearn\n",
    "import pandas as pd\n",
    "import matplotlib.pyplot as plt\n",
    "import numpy as np\n",
    "import seaborn as sns\n",
    "import matplotlib.pyplot as plt\n",
    "\n",
    "# Bibliotecas para crear el transformador de clusters\n",
    "from sklearn.base import BaseEstimator, TransformerMixin\n",
    "from sklearn.metrics.pairwise import rbf_kernel\n",
    "from sklearn.cluster import KMeans\n",
    "\n",
    " \n",
    "from sklearn.impute import SimpleImputer\n",
    "from sklearn.preprocessing import FunctionTransformer\n",
    "from sklearn.preprocessing import StandardScaler\n",
    "\n",
    "\n",
    "from sklearn.compose import make_column_selector\n",
    "from sklearn.pipeline import make_pipeline \n",
    "from sklearn.preprocessing import OneHotEncoder\n",
    " "
   ]
  },
  {
   "cell_type": "code",
   "execution_count": 112,
   "id": "fea7806d",
   "metadata": {},
   "outputs": [],
   "source": [
    "#prestamos = pd.read_csv('loan_data.csv')\n",
    "#prestamosOriginal = pd.read_csv('loan_data_original.csv')\n",
    "prestamos = pd.read_csv('loan_data_original.csv')"
   ]
  },
  {
   "cell_type": "code",
   "execution_count": 113,
   "id": "6de2548b",
   "metadata": {},
   "outputs": [
    {
     "data": {
      "text/html": [
       "<div>\n",
       "<style scoped>\n",
       "    .dataframe tbody tr th:only-of-type {\n",
       "        vertical-align: middle;\n",
       "    }\n",
       "\n",
       "    .dataframe tbody tr th {\n",
       "        vertical-align: top;\n",
       "    }\n",
       "\n",
       "    .dataframe thead th {\n",
       "        text-align: right;\n",
       "    }\n",
       "</style>\n",
       "<table border=\"1\" class=\"dataframe\">\n",
       "  <thead>\n",
       "    <tr style=\"text-align: right;\">\n",
       "      <th></th>\n",
       "      <th>Loan_ID</th>\n",
       "      <th>Gender</th>\n",
       "      <th>Married</th>\n",
       "      <th>Dependents</th>\n",
       "      <th>Education</th>\n",
       "      <th>Self_Employed</th>\n",
       "      <th>ApplicantIncome</th>\n",
       "      <th>CoapplicantIncome</th>\n",
       "      <th>LoanAmount</th>\n",
       "      <th>Loan_Amount_Term</th>\n",
       "      <th>Credit_History</th>\n",
       "      <th>Property_Area</th>\n",
       "      <th>Loan_Status</th>\n",
       "    </tr>\n",
       "  </thead>\n",
       "  <tbody>\n",
       "    <tr>\n",
       "      <th>0</th>\n",
       "      <td>LP001003</td>\n",
       "      <td>Male</td>\n",
       "      <td>Yes</td>\n",
       "      <td>1</td>\n",
       "      <td>Graduate</td>\n",
       "      <td>No</td>\n",
       "      <td>4583</td>\n",
       "      <td>1508.0</td>\n",
       "      <td>128.0</td>\n",
       "      <td>360.0</td>\n",
       "      <td>1.0</td>\n",
       "      <td>Rural</td>\n",
       "      <td>N</td>\n",
       "    </tr>\n",
       "    <tr>\n",
       "      <th>1</th>\n",
       "      <td>LP001005</td>\n",
       "      <td>Male</td>\n",
       "      <td>Yes</td>\n",
       "      <td>0</td>\n",
       "      <td>Graduate</td>\n",
       "      <td>Yes</td>\n",
       "      <td>3000</td>\n",
       "      <td>0.0</td>\n",
       "      <td>66.0</td>\n",
       "      <td>360.0</td>\n",
       "      <td>1.0</td>\n",
       "      <td>Urban</td>\n",
       "      <td>Y</td>\n",
       "    </tr>\n",
       "    <tr>\n",
       "      <th>2</th>\n",
       "      <td>LP001006</td>\n",
       "      <td>Male</td>\n",
       "      <td>Yes</td>\n",
       "      <td>0</td>\n",
       "      <td>Not Graduate</td>\n",
       "      <td>No</td>\n",
       "      <td>2583</td>\n",
       "      <td>2358.0</td>\n",
       "      <td>120.0</td>\n",
       "      <td>360.0</td>\n",
       "      <td>1.0</td>\n",
       "      <td>Urban</td>\n",
       "      <td>Y</td>\n",
       "    </tr>\n",
       "    <tr>\n",
       "      <th>3</th>\n",
       "      <td>LP001008</td>\n",
       "      <td>Male</td>\n",
       "      <td>No</td>\n",
       "      <td>0</td>\n",
       "      <td>Graduate</td>\n",
       "      <td>No</td>\n",
       "      <td>6000</td>\n",
       "      <td>0.0</td>\n",
       "      <td>141.0</td>\n",
       "      <td>360.0</td>\n",
       "      <td>1.0</td>\n",
       "      <td>Urban</td>\n",
       "      <td>Y</td>\n",
       "    </tr>\n",
       "    <tr>\n",
       "      <th>4</th>\n",
       "      <td>LP001013</td>\n",
       "      <td>Male</td>\n",
       "      <td>Yes</td>\n",
       "      <td>0</td>\n",
       "      <td>Not Graduate</td>\n",
       "      <td>No</td>\n",
       "      <td>2333</td>\n",
       "      <td>1516.0</td>\n",
       "      <td>95.0</td>\n",
       "      <td>360.0</td>\n",
       "      <td>1.0</td>\n",
       "      <td>Urban</td>\n",
       "      <td>Y</td>\n",
       "    </tr>\n",
       "  </tbody>\n",
       "</table>\n",
       "</div>"
      ],
      "text/plain": [
       "    Loan_ID Gender Married Dependents     Education Self_Employed  \\\n",
       "0  LP001003   Male     Yes          1      Graduate            No   \n",
       "1  LP001005   Male     Yes          0      Graduate           Yes   \n",
       "2  LP001006   Male     Yes          0  Not Graduate            No   \n",
       "3  LP001008   Male      No          0      Graduate            No   \n",
       "4  LP001013   Male     Yes          0  Not Graduate            No   \n",
       "\n",
       "   ApplicantIncome  CoapplicantIncome  LoanAmount  Loan_Amount_Term  \\\n",
       "0             4583             1508.0       128.0             360.0   \n",
       "1             3000                0.0        66.0             360.0   \n",
       "2             2583             2358.0       120.0             360.0   \n",
       "3             6000                0.0       141.0             360.0   \n",
       "4             2333             1516.0        95.0             360.0   \n",
       "\n",
       "   Credit_History Property_Area Loan_Status  \n",
       "0             1.0         Rural           N  \n",
       "1             1.0         Urban           Y  \n",
       "2             1.0         Urban           Y  \n",
       "3             1.0         Urban           Y  \n",
       "4             1.0         Urban           Y  "
      ]
     },
     "execution_count": 113,
     "metadata": {},
     "output_type": "execute_result"
    }
   ],
   "source": [
    "prestamos.head()"
   ]
  },
  {
   "cell_type": "code",
   "execution_count": 114,
   "id": "b768f205-0f1a-44f6-9a52-ede89c20f350",
   "metadata": {},
   "outputs": [
    {
     "data": {
      "text/plain": [
       "0    N\n",
       "1    Y\n",
       "2    Y\n",
       "3    Y\n",
       "4    Y\n",
       "Name: Loan_Status, dtype: object"
      ]
     },
     "execution_count": 114,
     "metadata": {},
     "output_type": "execute_result"
    }
   ],
   "source": [
    "prestamos[\"Loan_Status\"].head()"
   ]
  },
  {
   "cell_type": "code",
   "execution_count": 115,
   "id": "a4f49818-8c5c-4064-a3ad-20c45e86d661",
   "metadata": {},
   "outputs": [
    {
     "name": "stdout",
     "output_type": "stream",
     "text": [
      "['N' 'Y']\n"
     ]
    }
   ],
   "source": [
    "print(prestamos[\"Loan_Status\"].unique())"
   ]
  },
  {
   "cell_type": "code",
   "execution_count": 116,
   "id": "e15a75bc-c21a-4c4f-bf6d-9e4fcca40147",
   "metadata": {},
   "outputs": [
    {
     "data": {
      "text/plain": [
       "0    N\n",
       "1    Y\n",
       "2    Y\n",
       "3    Y\n",
       "4    Y\n",
       "Name: Loan_Status, dtype: object"
      ]
     },
     "execution_count": 116,
     "metadata": {},
     "output_type": "execute_result"
    }
   ],
   "source": [
    "prestamos[\"Loan_Status\"].head()"
   ]
  },
  {
   "cell_type": "code",
   "execution_count": 117,
   "id": "e1e32379-1696-45cd-aa87-b07e8b893690",
   "metadata": {},
   "outputs": [
    {
     "name": "stdout",
     "output_type": "stream",
     "text": [
      "<class 'pandas.core.frame.DataFrame'>\n",
      "RangeIndex: 381 entries, 0 to 380\n",
      "Data columns (total 13 columns):\n",
      " #   Column             Non-Null Count  Dtype  \n",
      "---  ------             --------------  -----  \n",
      " 0   Loan_ID            381 non-null    object \n",
      " 1   Gender             376 non-null    object \n",
      " 2   Married            381 non-null    object \n",
      " 3   Dependents         373 non-null    object \n",
      " 4   Education          381 non-null    object \n",
      " 5   Self_Employed      360 non-null    object \n",
      " 6   ApplicantIncome    381 non-null    int64  \n",
      " 7   CoapplicantIncome  381 non-null    float64\n",
      " 8   LoanAmount         381 non-null    float64\n",
      " 9   Loan_Amount_Term   370 non-null    float64\n",
      " 10  Credit_History     351 non-null    float64\n",
      " 11  Property_Area      381 non-null    object \n",
      " 12  Loan_Status        381 non-null    object \n",
      "dtypes: float64(4), int64(1), object(8)\n",
      "memory usage: 38.8+ KB\n"
     ]
    }
   ],
   "source": [
    "prestamos.info()"
   ]
  },
  {
   "cell_type": "code",
   "execution_count": 118,
   "id": "12c983a5-7d5f-40b5-9a76-f5bdd81f9f4d",
   "metadata": {},
   "outputs": [
    {
     "data": {
      "text/html": [
       "<div>\n",
       "<style scoped>\n",
       "    .dataframe tbody tr th:only-of-type {\n",
       "        vertical-align: middle;\n",
       "    }\n",
       "\n",
       "    .dataframe tbody tr th {\n",
       "        vertical-align: top;\n",
       "    }\n",
       "\n",
       "    .dataframe thead th {\n",
       "        text-align: right;\n",
       "    }\n",
       "</style>\n",
       "<table border=\"1\" class=\"dataframe\">\n",
       "  <thead>\n",
       "    <tr style=\"text-align: right;\">\n",
       "      <th></th>\n",
       "      <th>ApplicantIncome</th>\n",
       "      <th>CoapplicantIncome</th>\n",
       "      <th>LoanAmount</th>\n",
       "      <th>Loan_Amount_Term</th>\n",
       "      <th>Credit_History</th>\n",
       "    </tr>\n",
       "  </thead>\n",
       "  <tbody>\n",
       "    <tr>\n",
       "      <th>count</th>\n",
       "      <td>381.000000</td>\n",
       "      <td>381.000000</td>\n",
       "      <td>381.000000</td>\n",
       "      <td>370.000000</td>\n",
       "      <td>351.000000</td>\n",
       "    </tr>\n",
       "    <tr>\n",
       "      <th>mean</th>\n",
       "      <td>3579.845144</td>\n",
       "      <td>1277.275381</td>\n",
       "      <td>104.986877</td>\n",
       "      <td>340.864865</td>\n",
       "      <td>0.837607</td>\n",
       "    </tr>\n",
       "    <tr>\n",
       "      <th>std</th>\n",
       "      <td>1419.813818</td>\n",
       "      <td>2340.818114</td>\n",
       "      <td>28.358464</td>\n",
       "      <td>68.549257</td>\n",
       "      <td>0.369338</td>\n",
       "    </tr>\n",
       "    <tr>\n",
       "      <th>min</th>\n",
       "      <td>150.000000</td>\n",
       "      <td>0.000000</td>\n",
       "      <td>9.000000</td>\n",
       "      <td>12.000000</td>\n",
       "      <td>0.000000</td>\n",
       "    </tr>\n",
       "    <tr>\n",
       "      <th>25%</th>\n",
       "      <td>2600.000000</td>\n",
       "      <td>0.000000</td>\n",
       "      <td>90.000000</td>\n",
       "      <td>360.000000</td>\n",
       "      <td>1.000000</td>\n",
       "    </tr>\n",
       "    <tr>\n",
       "      <th>50%</th>\n",
       "      <td>3333.000000</td>\n",
       "      <td>983.000000</td>\n",
       "      <td>110.000000</td>\n",
       "      <td>360.000000</td>\n",
       "      <td>1.000000</td>\n",
       "    </tr>\n",
       "    <tr>\n",
       "      <th>75%</th>\n",
       "      <td>4288.000000</td>\n",
       "      <td>2016.000000</td>\n",
       "      <td>127.000000</td>\n",
       "      <td>360.000000</td>\n",
       "      <td>1.000000</td>\n",
       "    </tr>\n",
       "    <tr>\n",
       "      <th>max</th>\n",
       "      <td>9703.000000</td>\n",
       "      <td>33837.000000</td>\n",
       "      <td>150.000000</td>\n",
       "      <td>480.000000</td>\n",
       "      <td>1.000000</td>\n",
       "    </tr>\n",
       "  </tbody>\n",
       "</table>\n",
       "</div>"
      ],
      "text/plain": [
       "       ApplicantIncome  CoapplicantIncome  LoanAmount  Loan_Amount_Term  \\\n",
       "count       381.000000         381.000000  381.000000        370.000000   \n",
       "mean       3579.845144        1277.275381  104.986877        340.864865   \n",
       "std        1419.813818        2340.818114   28.358464         68.549257   \n",
       "min         150.000000           0.000000    9.000000         12.000000   \n",
       "25%        2600.000000           0.000000   90.000000        360.000000   \n",
       "50%        3333.000000         983.000000  110.000000        360.000000   \n",
       "75%        4288.000000        2016.000000  127.000000        360.000000   \n",
       "max        9703.000000       33837.000000  150.000000        480.000000   \n",
       "\n",
       "       Credit_History  \n",
       "count      351.000000  \n",
       "mean         0.837607  \n",
       "std          0.369338  \n",
       "min          0.000000  \n",
       "25%          1.000000  \n",
       "50%          1.000000  \n",
       "75%          1.000000  \n",
       "max          1.000000  "
      ]
     },
     "execution_count": 118,
     "metadata": {},
     "output_type": "execute_result"
    }
   ],
   "source": [
    "prestamos.describe()"
   ]
  },
  {
   "cell_type": "code",
   "execution_count": 119,
   "id": "e17b9fc4-ee0d-4515-b696-c27015d58548",
   "metadata": {
    "scrolled": true
   },
   "outputs": [
    {
     "data": {
      "image/png": "[encoded data removed]",
      "text/plain": [
       "<Figure size 1600x1000 with 6 Axes>"
      ]
     },
     "metadata": {},
     "output_type": "display_data"
    }
   ],
   "source": [
    "sns.set(style=\"whitegrid\")\n",
    "plt.rc('font', size=12)\n",
    "plt.rc('axes', labelsize=13, titlesize=15)\n",
    "plt.rc('xtick', labelsize=10)\n",
    "plt.rc('ytick', labelsize=10)\n",
    "plt.rc('legend', fontsize=12)\n",
    "prestamos.hist(bins=15, figsize=(16, 10), color='skyblue', edgecolor='black', grid=False)\n",
    "\n",
    "# Ajuste para que no se superpongan los subplots\n",
    "plt.tight_layout()\n",
    "plt.show()\n"
   ]
  },
  {
   "cell_type": "code",
   "execution_count": 120,
   "id": "99fe9470-0055-432f-a923-274d79913479",
   "metadata": {},
   "outputs": [
    {
     "data": {
      "text/plain": [
       "<Axes: ylabel='ApplicantIncome'>"
      ]
     },
     "execution_count": 120,
     "metadata": {},
     "output_type": "execute_result"
    },
    {
     "data": {
      "image/png": "[encoded data removed]",
      "text/plain": [
       "<Figure size 640x480 with 1 Axes>"
      ]
     },
     "metadata": {},
     "output_type": "display_data"
    }
   ],
   "source": [
    "import seaborn as sns\n",
    "sns.boxplot(data=prestamos['ApplicantIncome'])"
   ]
  },
  {
   "cell_type": "code",
   "execution_count": 121,
   "id": "c51677bf-b029-40ca-8a77-fde324c60d77",
   "metadata": {},
   "outputs": [
    {
     "data": {
      "text/plain": [
       "<Axes: ylabel='CoapplicantIncome'>"
      ]
     },
     "execution_count": 121,
     "metadata": {},
     "output_type": "execute_result"
    },
    {
     "data": {
      "image/png": "[encoded data removed]",
      "text/plain": [
       "<Figure size 640x480 with 1 Axes>"
      ]
     },
     "metadata": {},
     "output_type": "display_data"
    }
   ],
   "source": [
    "import seaborn as sns\n",
    "sns.boxplot(data=prestamos['CoapplicantIncome'])"
   ]
  },
  {
   "cell_type": "code",
   "execution_count": 122,
   "id": "3d0faf1a-a82d-4aa1-9b76-ec2b97d842d1",
   "metadata": {},
   "outputs": [
    {
     "data": {
      "text/plain": [
       "<Axes: ylabel='LoanAmount'>"
      ]
     },
     "execution_count": 122,
     "metadata": {},
     "output_type": "execute_result"
    },
    {
     "data": {
      "image/png": "[encoded data removed]",
      "text/plain": [
       "<Figure size 640x480 with 1 Axes>"
      ]
     },
     "metadata": {},
     "output_type": "display_data"
    }
   ],
   "source": [
    "import seaborn as sns\n",
    "sns.boxplot(data=prestamos['LoanAmount'])"
   ]
  },
  {
   "cell_type": "code",
   "execution_count": 123,
   "id": "c0b6d15c-1196-4165-85ad-ae3b16542000",
   "metadata": {},
   "outputs": [
    {
     "data": {
      "image/png": "[encoded data removed]",
      "text/plain": [
       "<Figure size 800x500 with 1 Axes>"
      ]
     },
     "metadata": {},
     "output_type": "display_data"
    }
   ],
   "source": [
    "\n",
    "\n",
    "# Gráfico de conteo por estado del préstamo\n",
    "plt.figure(figsize=(8, 5))\n",
    "sns.countplot(x='Loan_Status', data=prestamos)\n",
    "plt.title(\"Cantidad de Préstamos por Estado\")\n",
    "plt.xlabel(\"Estado del Préstamo (Loan_Status)\")\n",
    "plt.ylabel(\"Cantidad de Préstamos\")\n",
    "plt.grid(axis='y')\n",
    "plt.tight_layout()\n",
    "plt.show()\n"
   ]
  },
  {
   "cell_type": "code",
   "execution_count": 124,
   "id": "99340ac6-cbc1-48b4-bbc7-18fc124c0a1f",
   "metadata": {},
   "outputs": [
    {
     "data": {
      "text/html": [
       "<div>\n",
       "<style scoped>\n",
       "    .dataframe tbody tr th:only-of-type {\n",
       "        vertical-align: middle;\n",
       "    }\n",
       "\n",
       "    .dataframe tbody tr th {\n",
       "        vertical-align: top;\n",
       "    }\n",
       "\n",
       "    .dataframe thead th {\n",
       "        text-align: right;\n",
       "    }\n",
       "</style>\n",
       "<table border=\"1\" class=\"dataframe\">\n",
       "  <thead>\n",
       "    <tr style=\"text-align: right;\">\n",
       "      <th></th>\n",
       "      <th>Variable</th>\n",
       "      <th>Valor</th>\n",
       "    </tr>\n",
       "  </thead>\n",
       "  <tbody>\n",
       "    <tr>\n",
       "      <th>0</th>\n",
       "      <td>Loan_ID</td>\n",
       "      <td>LP001003</td>\n",
       "    </tr>\n",
       "    <tr>\n",
       "      <th>1</th>\n",
       "      <td>Loan_ID</td>\n",
       "      <td>LP001005</td>\n",
       "    </tr>\n",
       "    <tr>\n",
       "      <th>2</th>\n",
       "      <td>Loan_ID</td>\n",
       "      <td>LP001006</td>\n",
       "    </tr>\n",
       "    <tr>\n",
       "      <th>3</th>\n",
       "      <td>Loan_ID</td>\n",
       "      <td>LP001008</td>\n",
       "    </tr>\n",
       "    <tr>\n",
       "      <th>4</th>\n",
       "      <td>Loan_ID</td>\n",
       "      <td>LP001013</td>\n",
       "    </tr>\n",
       "    <tr>\n",
       "      <th>...</th>\n",
       "      <td>...</td>\n",
       "      <td>...</td>\n",
       "    </tr>\n",
       "    <tr>\n",
       "      <th>4948</th>\n",
       "      <td>Loan_Status</td>\n",
       "      <td>Y</td>\n",
       "    </tr>\n",
       "    <tr>\n",
       "      <th>4949</th>\n",
       "      <td>Loan_Status</td>\n",
       "      <td>Y</td>\n",
       "    </tr>\n",
       "    <tr>\n",
       "      <th>4950</th>\n",
       "      <td>Loan_Status</td>\n",
       "      <td>Y</td>\n",
       "    </tr>\n",
       "    <tr>\n",
       "      <th>4951</th>\n",
       "      <td>Loan_Status</td>\n",
       "      <td>Y</td>\n",
       "    </tr>\n",
       "    <tr>\n",
       "      <th>4952</th>\n",
       "      <td>Loan_Status</td>\n",
       "      <td>N</td>\n",
       "    </tr>\n",
       "  </tbody>\n",
       "</table>\n",
       "<p>4953 rows × 2 columns</p>\n",
       "</div>"
      ],
      "text/plain": [
       "         Variable     Valor\n",
       "0         Loan_ID  LP001003\n",
       "1         Loan_ID  LP001005\n",
       "2         Loan_ID  LP001006\n",
       "3         Loan_ID  LP001008\n",
       "4         Loan_ID  LP001013\n",
       "...           ...       ...\n",
       "4948  Loan_Status         Y\n",
       "4949  Loan_Status         Y\n",
       "4950  Loan_Status         Y\n",
       "4951  Loan_Status         Y\n",
       "4952  Loan_Status         N\n",
       "\n",
       "[4953 rows x 2 columns]"
      ]
     },
     "execution_count": 124,
     "metadata": {},
     "output_type": "execute_result"
    }
   ],
   "source": [
    "prestamosM = prestamos.melt(var_name=\"Variable\", value_name=\"Valor\")\n",
    "prestamosM"
   ]
  },
  {
   "cell_type": "code",
   "execution_count": 125,
   "id": "445a7761-de4a-46ff-8246-3abdc00c8d32",
   "metadata": {
    "scrolled": true
   },
   "outputs": [
    {
     "data": {
      "image/png": "[encoded data removed]",
      "text/plain": [
       "<Figure size 1000x500 with 1 Axes>"
      ]
     },
     "metadata": {},
     "output_type": "display_data"
    }
   ],
   "source": [
    "import seaborn as sns\n",
    "plt.figure(figsize=(10, 5))\n",
    "sns.boxplot(x=\"Education\", y=\"ApplicantIncome\", data=prestamos)\n",
    "plt.title(\"Distribución de Variables\")\n",
    "plt.xticks(rotation=45)\n",
    "plt.show()"
   ]
  },
  {
   "cell_type": "code",
   "execution_count": 126,
   "id": "809addba-09ea-46b3-be35-432cc7b92a2e",
   "metadata": {},
   "outputs": [
    {
     "data": {
      "text/plain": [
       "Index(['Loan_ID', 'Gender', 'Married', 'Dependents', 'Education',\n",
       "       'Self_Employed', 'ApplicantIncome', 'CoapplicantIncome', 'LoanAmount',\n",
       "       'Loan_Amount_Term', 'Credit_History', 'Property_Area', 'Loan_Status'],\n",
       "      dtype='object')"
      ]
     },
     "execution_count": 126,
     "metadata": {},
     "output_type": "execute_result"
    }
   ],
   "source": [
    "prestamos.columns"
   ]
  },
  {
   "cell_type": "code",
   "execution_count": 127,
   "id": "183ce17c-5721-4d96-887b-3c3af06430e3",
   "metadata": {},
   "outputs": [
    {
     "data": {
      "image/png": "[encoded data removed]",
      "text/plain": [
       "<Figure size 1000x500 with 1 Axes>"
      ]
     },
     "metadata": {},
     "output_type": "display_data"
    }
   ],
   "source": [
    "dfMelted = prestamos.melt(var_name=\"Variable\", value_name=\"Valor\")\n",
    "\n",
    "dfMelted = dfMelted[pd.to_numeric(dfMelted[\"Valor\"], errors=\"coerce\").notnull()]\n",
    "dfMelted[\"Valor\"] = dfMelted[\"Valor\"].astype(float)\n",
    "\n",
    "dfMelted\n",
    "# Generar el boxplot\n",
    "\n",
    "import seaborn as sns\n",
    "plt.figure(figsize=(10, 5))\n",
    "sns.boxplot(x=\"Variable\", y=\"Valor\", data=dfMelted)\n",
    "plt.title(\"Distribución de Variables\")\n",
    "plt.xticks(rotation=45)\n",
    "plt.show()"
   ]
  },
  {
   "cell_type": "code",
   "execution_count": 128,
   "id": "dd990f08-d000-4f76-91ab-1b27789f62a1",
   "metadata": {},
   "outputs": [
    {
     "data": {
      "text/html": [
       "<div>\n",
       "<style scoped>\n",
       "    .dataframe tbody tr th:only-of-type {\n",
       "        vertical-align: middle;\n",
       "    }\n",
       "\n",
       "    .dataframe tbody tr th {\n",
       "        vertical-align: top;\n",
       "    }\n",
       "\n",
       "    .dataframe thead th {\n",
       "        text-align: right;\n",
       "    }\n",
       "</style>\n",
       "<table border=\"1\" class=\"dataframe\">\n",
       "  <thead>\n",
       "    <tr style=\"text-align: right;\">\n",
       "      <th></th>\n",
       "      <th>ApplicantIncome</th>\n",
       "      <th>CoapplicantIncome</th>\n",
       "      <th>LoanAmount</th>\n",
       "      <th>Loan_Amount_Term</th>\n",
       "      <th>Credit_History</th>\n",
       "    </tr>\n",
       "  </thead>\n",
       "  <tbody>\n",
       "    <tr>\n",
       "      <th>ApplicantIncome</th>\n",
       "      <td>1.000000</td>\n",
       "      <td>-0.248693</td>\n",
       "      <td>0.270681</td>\n",
       "      <td>-0.109875</td>\n",
       "      <td>0.004535</td>\n",
       "    </tr>\n",
       "    <tr>\n",
       "      <th>CoapplicantIncome</th>\n",
       "      <td>-0.248693</td>\n",
       "      <td>1.000000</td>\n",
       "      <td>0.114936</td>\n",
       "      <td>0.001906</td>\n",
       "      <td>0.023015</td>\n",
       "    </tr>\n",
       "    <tr>\n",
       "      <th>LoanAmount</th>\n",
       "      <td>0.270681</td>\n",
       "      <td>0.114936</td>\n",
       "      <td>1.000000</td>\n",
       "      <td>0.123579</td>\n",
       "      <td>-0.047899</td>\n",
       "    </tr>\n",
       "    <tr>\n",
       "      <th>Loan_Amount_Term</th>\n",
       "      <td>-0.109875</td>\n",
       "      <td>0.001906</td>\n",
       "      <td>0.123579</td>\n",
       "      <td>1.000000</td>\n",
       "      <td>-0.013452</td>\n",
       "    </tr>\n",
       "    <tr>\n",
       "      <th>Credit_History</th>\n",
       "      <td>0.004535</td>\n",
       "      <td>0.023015</td>\n",
       "      <td>-0.047899</td>\n",
       "      <td>-0.013452</td>\n",
       "      <td>1.000000</td>\n",
       "    </tr>\n",
       "  </tbody>\n",
       "</table>\n",
       "</div>"
      ],
      "text/plain": [
       "                   ApplicantIncome  CoapplicantIncome  LoanAmount  \\\n",
       "ApplicantIncome           1.000000          -0.248693    0.270681   \n",
       "CoapplicantIncome        -0.248693           1.000000    0.114936   \n",
       "LoanAmount                0.270681           0.114936    1.000000   \n",
       "Loan_Amount_Term         -0.109875           0.001906    0.123579   \n",
       "Credit_History            0.004535           0.023015   -0.047899   \n",
       "\n",
       "                   Loan_Amount_Term  Credit_History  \n",
       "ApplicantIncome           -0.109875        0.004535  \n",
       "CoapplicantIncome          0.001906        0.023015  \n",
       "LoanAmount                 0.123579       -0.047899  \n",
       "Loan_Amount_Term           1.000000       -0.013452  \n",
       "Credit_History            -0.013452        1.000000  "
      ]
     },
     "execution_count": 128,
     "metadata": {},
     "output_type": "execute_result"
    }
   ],
   "source": [
    "corr_matrix = prestamos.corr(numeric_only=True)\n",
    "corr_matrix"
   ]
  },
  {
   "cell_type": "code",
   "execution_count": 129,
   "id": "152de006",
   "metadata": {},
   "outputs": [
    {
     "data": {
      "text/plain": [
       "Index(['Loan_ID', 'Gender', 'Married', 'Dependents', 'Education',\n",
       "       'Self_Employed', 'ApplicantIncome', 'CoapplicantIncome', 'LoanAmount',\n",
       "       'Loan_Amount_Term', 'Credit_History', 'Property_Area', 'Loan_Status'],\n",
       "      dtype='object')"
      ]
     },
     "execution_count": 129,
     "metadata": {},
     "output_type": "execute_result"
    }
   ],
   "source": [
    "prestamos.columns"
   ]
  },
  {
   "cell_type": "code",
   "execution_count": 130,
   "id": "cb74d43e-53b4-4523-866a-c5036777cbe4",
   "metadata": {},
   "outputs": [
    {
     "data": {
      "text/plain": [
       "pandas.core.frame.DataFrame"
      ]
     },
     "execution_count": 130,
     "metadata": {},
     "output_type": "execute_result"
    }
   ],
   "source": [
    "type(corr_matrix)"
   ]
  },
  {
   "cell_type": "code",
   "execution_count": 131,
   "id": "3adc6865",
   "metadata": {},
   "outputs": [
    {
     "data": {
      "image/png": "[encoded data removed]",
      "text/plain": [
       "<Figure size 1200x800 with 16 Axes>"
      ]
     },
     "metadata": {},
     "output_type": "display_data"
    }
   ],
   "source": [
    "from pandas.plotting import scatter_matrix\n",
    " \n",
    "attributes = [\"Credit_History\", \"LoanAmount\",\"ApplicantIncome\", \"CoapplicantIncome\"]\n",
    " \n",
    "scatter_matrix(prestamos[attributes], figsize=(12, 8))\n",
    " \n",
    "plt.show()"
   ]
  },
  {
   "cell_type": "code",
   "execution_count": 132,
   "id": "41adc11b-9e53-4950-971c-cfa5e7f094a9",
   "metadata": {},
   "outputs": [],
   "source": [
    "from sklearn.model_selection import train_test_split\n"
   ]
  },
  {
   "cell_type": "code",
   "execution_count": 133,
   "id": "155e0ff7-2047-4302-99e5-47b47d0a3145",
   "metadata": {},
   "outputs": [
    {
     "data": {
      "text/plain": [
       "count    381.000000\n",
       "mean     104.986877\n",
       "std       28.358464\n",
       "min        9.000000\n",
       "25%       90.000000\n",
       "50%      110.000000\n",
       "75%      127.000000\n",
       "max      150.000000\n",
       "Name: LoanAmount, dtype: float64"
      ]
     },
     "execution_count": 133,
     "metadata": {},
     "output_type": "execute_result"
    }
   ],
   "source": [
    "prestamos[\"LoanAmount\"].describe()"
   ]
  },
  {
   "cell_type": "code",
   "execution_count": 134,
   "id": "e943dafd-0c51-426a-a902-60b6287728fc",
   "metadata": {},
   "outputs": [
    {
     "data": {
      "text/html": [
       "<div>\n",
       "<style scoped>\n",
       "    .dataframe tbody tr th:only-of-type {\n",
       "        vertical-align: middle;\n",
       "    }\n",
       "\n",
       "    .dataframe tbody tr th {\n",
       "        vertical-align: top;\n",
       "    }\n",
       "\n",
       "    .dataframe thead th {\n",
       "        text-align: right;\n",
       "    }\n",
       "</style>\n",
       "<table border=\"1\" class=\"dataframe\">\n",
       "  <thead>\n",
       "    <tr style=\"text-align: right;\">\n",
       "      <th></th>\n",
       "      <th>Loan_ID</th>\n",
       "      <th>Gender</th>\n",
       "      <th>Married</th>\n",
       "      <th>Dependents</th>\n",
       "      <th>Education</th>\n",
       "      <th>Self_Employed</th>\n",
       "      <th>ApplicantIncome</th>\n",
       "      <th>CoapplicantIncome</th>\n",
       "      <th>LoanAmount</th>\n",
       "      <th>Loan_Amount_Term</th>\n",
       "      <th>Credit_History</th>\n",
       "      <th>Property_Area</th>\n",
       "      <th>Loan_Status</th>\n",
       "      <th>amount_cat</th>\n",
       "    </tr>\n",
       "  </thead>\n",
       "  <tbody>\n",
       "    <tr>\n",
       "      <th>0</th>\n",
       "      <td>LP001003</td>\n",
       "      <td>Male</td>\n",
       "      <td>Yes</td>\n",
       "      <td>1</td>\n",
       "      <td>Graduate</td>\n",
       "      <td>No</td>\n",
       "      <td>4583</td>\n",
       "      <td>1508.0</td>\n",
       "      <td>128.0</td>\n",
       "      <td>360.0</td>\n",
       "      <td>1.0</td>\n",
       "      <td>Rural</td>\n",
       "      <td>N</td>\n",
       "      <td>4</td>\n",
       "    </tr>\n",
       "    <tr>\n",
       "      <th>1</th>\n",
       "      <td>LP001005</td>\n",
       "      <td>Male</td>\n",
       "      <td>Yes</td>\n",
       "      <td>0</td>\n",
       "      <td>Graduate</td>\n",
       "      <td>Yes</td>\n",
       "      <td>3000</td>\n",
       "      <td>0.0</td>\n",
       "      <td>66.0</td>\n",
       "      <td>360.0</td>\n",
       "      <td>1.0</td>\n",
       "      <td>Urban</td>\n",
       "      <td>Y</td>\n",
       "      <td>1</td>\n",
       "    </tr>\n",
       "    <tr>\n",
       "      <th>2</th>\n",
       "      <td>LP001006</td>\n",
       "      <td>Male</td>\n",
       "      <td>Yes</td>\n",
       "      <td>0</td>\n",
       "      <td>Not Graduate</td>\n",
       "      <td>No</td>\n",
       "      <td>2583</td>\n",
       "      <td>2358.0</td>\n",
       "      <td>120.0</td>\n",
       "      <td>360.0</td>\n",
       "      <td>1.0</td>\n",
       "      <td>Urban</td>\n",
       "      <td>Y</td>\n",
       "      <td>3</td>\n",
       "    </tr>\n",
       "    <tr>\n",
       "      <th>3</th>\n",
       "      <td>LP001008</td>\n",
       "      <td>Male</td>\n",
       "      <td>No</td>\n",
       "      <td>0</td>\n",
       "      <td>Graduate</td>\n",
       "      <td>No</td>\n",
       "      <td>6000</td>\n",
       "      <td>0.0</td>\n",
       "      <td>141.0</td>\n",
       "      <td>360.0</td>\n",
       "      <td>1.0</td>\n",
       "      <td>Urban</td>\n",
       "      <td>Y</td>\n",
       "      <td>5</td>\n",
       "    </tr>\n",
       "    <tr>\n",
       "      <th>4</th>\n",
       "      <td>LP001013</td>\n",
       "      <td>Male</td>\n",
       "      <td>Yes</td>\n",
       "      <td>0</td>\n",
       "      <td>Not Graduate</td>\n",
       "      <td>No</td>\n",
       "      <td>2333</td>\n",
       "      <td>1516.0</td>\n",
       "      <td>95.0</td>\n",
       "      <td>360.0</td>\n",
       "      <td>1.0</td>\n",
       "      <td>Urban</td>\n",
       "      <td>Y</td>\n",
       "      <td>2</td>\n",
       "    </tr>\n",
       "    <tr>\n",
       "      <th>...</th>\n",
       "      <td>...</td>\n",
       "      <td>...</td>\n",
       "      <td>...</td>\n",
       "      <td>...</td>\n",
       "      <td>...</td>\n",
       "      <td>...</td>\n",
       "      <td>...</td>\n",
       "      <td>...</td>\n",
       "      <td>...</td>\n",
       "      <td>...</td>\n",
       "      <td>...</td>\n",
       "      <td>...</td>\n",
       "      <td>...</td>\n",
       "      <td>...</td>\n",
       "    </tr>\n",
       "    <tr>\n",
       "      <th>376</th>\n",
       "      <td>LP002953</td>\n",
       "      <td>Male</td>\n",
       "      <td>Yes</td>\n",
       "      <td>3+</td>\n",
       "      <td>Graduate</td>\n",
       "      <td>No</td>\n",
       "      <td>5703</td>\n",
       "      <td>0.0</td>\n",
       "      <td>128.0</td>\n",
       "      <td>360.0</td>\n",
       "      <td>1.0</td>\n",
       "      <td>Urban</td>\n",
       "      <td>Y</td>\n",
       "      <td>4</td>\n",
       "    </tr>\n",
       "    <tr>\n",
       "      <th>377</th>\n",
       "      <td>LP002974</td>\n",
       "      <td>Male</td>\n",
       "      <td>Yes</td>\n",
       "      <td>0</td>\n",
       "      <td>Graduate</td>\n",
       "      <td>No</td>\n",
       "      <td>3232</td>\n",
       "      <td>1950.0</td>\n",
       "      <td>108.0</td>\n",
       "      <td>360.0</td>\n",
       "      <td>1.0</td>\n",
       "      <td>Rural</td>\n",
       "      <td>Y</td>\n",
       "      <td>2</td>\n",
       "    </tr>\n",
       "    <tr>\n",
       "      <th>378</th>\n",
       "      <td>LP002978</td>\n",
       "      <td>Female</td>\n",
       "      <td>No</td>\n",
       "      <td>0</td>\n",
       "      <td>Graduate</td>\n",
       "      <td>No</td>\n",
       "      <td>2900</td>\n",
       "      <td>0.0</td>\n",
       "      <td>71.0</td>\n",
       "      <td>360.0</td>\n",
       "      <td>1.0</td>\n",
       "      <td>Rural</td>\n",
       "      <td>Y</td>\n",
       "      <td>1</td>\n",
       "    </tr>\n",
       "    <tr>\n",
       "      <th>379</th>\n",
       "      <td>LP002979</td>\n",
       "      <td>Male</td>\n",
       "      <td>Yes</td>\n",
       "      <td>3+</td>\n",
       "      <td>Graduate</td>\n",
       "      <td>No</td>\n",
       "      <td>4106</td>\n",
       "      <td>0.0</td>\n",
       "      <td>40.0</td>\n",
       "      <td>180.0</td>\n",
       "      <td>1.0</td>\n",
       "      <td>Rural</td>\n",
       "      <td>Y</td>\n",
       "      <td>1</td>\n",
       "    </tr>\n",
       "    <tr>\n",
       "      <th>380</th>\n",
       "      <td>LP002990</td>\n",
       "      <td>Female</td>\n",
       "      <td>No</td>\n",
       "      <td>0</td>\n",
       "      <td>Graduate</td>\n",
       "      <td>Yes</td>\n",
       "      <td>4583</td>\n",
       "      <td>0.0</td>\n",
       "      <td>133.0</td>\n",
       "      <td>360.0</td>\n",
       "      <td>0.0</td>\n",
       "      <td>Semiurban</td>\n",
       "      <td>N</td>\n",
       "      <td>4</td>\n",
       "    </tr>\n",
       "  </tbody>\n",
       "</table>\n",
       "<p>381 rows × 14 columns</p>\n",
       "</div>"
      ],
      "text/plain": [
       "      Loan_ID  Gender Married Dependents     Education Self_Employed  \\\n",
       "0    LP001003    Male     Yes          1      Graduate            No   \n",
       "1    LP001005    Male     Yes          0      Graduate           Yes   \n",
       "2    LP001006    Male     Yes          0  Not Graduate            No   \n",
       "3    LP001008    Male      No          0      Graduate            No   \n",
       "4    LP001013    Male     Yes          0  Not Graduate            No   \n",
       "..        ...     ...     ...        ...           ...           ...   \n",
       "376  LP002953    Male     Yes         3+      Graduate            No   \n",
       "377  LP002974    Male     Yes          0      Graduate            No   \n",
       "378  LP002978  Female      No          0      Graduate            No   \n",
       "379  LP002979    Male     Yes         3+      Graduate            No   \n",
       "380  LP002990  Female      No          0      Graduate           Yes   \n",
       "\n",
       "     ApplicantIncome  CoapplicantIncome  LoanAmount  Loan_Amount_Term  \\\n",
       "0               4583             1508.0       128.0             360.0   \n",
       "1               3000                0.0        66.0             360.0   \n",
       "2               2583             2358.0       120.0             360.0   \n",
       "3               6000                0.0       141.0             360.0   \n",
       "4               2333             1516.0        95.0             360.0   \n",
       "..               ...                ...         ...               ...   \n",
       "376             5703                0.0       128.0             360.0   \n",
       "377             3232             1950.0       108.0             360.0   \n",
       "378             2900                0.0        71.0             360.0   \n",
       "379             4106                0.0        40.0             180.0   \n",
       "380             4583                0.0       133.0             360.0   \n",
       "\n",
       "     Credit_History Property_Area Loan_Status amount_cat  \n",
       "0               1.0         Rural           N          4  \n",
       "1               1.0         Urban           Y          1  \n",
       "2               1.0         Urban           Y          3  \n",
       "3               1.0         Urban           Y          5  \n",
       "4               1.0         Urban           Y          2  \n",
       "..              ...           ...         ...        ...  \n",
       "376             1.0         Urban           Y          4  \n",
       "377             1.0         Rural           Y          2  \n",
       "378             1.0         Rural           Y          1  \n",
       "379             1.0         Rural           Y          1  \n",
       "380             0.0     Semiurban           N          4  \n",
       "\n",
       "[381 rows x 14 columns]"
      ]
     },
     "execution_count": 134,
     "metadata": {},
     "output_type": "execute_result"
    }
   ],
   "source": [
    "##Estratificación de los datos: cantidad del prestamo(LoanAmount)\n",
    "prestamos[\"amount_cat\"] = pd.cut(prestamos[\"LoanAmount\"],\n",
    "                                  bins = [0, 90, 110, 127, 140, np.inf],\n",
    "                                 labels = [1, 2, 3, 4, 5])\n",
    "prestamos"
   ]
  },
  {
   "cell_type": "code",
   "execution_count": 135,
   "id": "eb36d6b8-90d2-4033-8d40-718ddee311e0",
   "metadata": {},
   "outputs": [
    {
     "data": {
      "image/png": "[encoded data removed]",
      "text/plain": [
       "<Figure size 640x480 with 1 Axes>"
      ]
     },
     "metadata": {},
     "output_type": "display_data"
    }
   ],
   "source": [
    "prestamos[\"amount_cat\"].value_counts().sort_index().plot.bar(\n",
    "    color='skyblue', edgecolor='black', rot=0, grid=True\n",
    ")\n",
    "\n",
    "plt.title(\"Distribución por categoría de monto del préstamo\", fontsize=14, fontweight='bold')\n",
    "plt.xlabel(\"Categoría de monto del préstamo\", fontsize=12)\n",
    "plt.ylabel(\"Cantidad de solicitudes\", fontsize=12)\n",
    "plt.tight_layout()\n",
    "plt.show()\n"
   ]
  },
  {
   "cell_type": "code",
   "execution_count": 136,
   "id": "0fd5a926-4401-4f92-991e-7652741abc3f",
   "metadata": {},
   "outputs": [
    {
     "data": {
      "text/html": [
       "<div>\n",
       "<style scoped>\n",
       "    .dataframe tbody tr th:only-of-type {\n",
       "        vertical-align: middle;\n",
       "    }\n",
       "\n",
       "    .dataframe tbody tr th {\n",
       "        vertical-align: top;\n",
       "    }\n",
       "\n",
       "    .dataframe thead th {\n",
       "        text-align: right;\n",
       "    }\n",
       "</style>\n",
       "<table border=\"1\" class=\"dataframe\">\n",
       "  <thead>\n",
       "    <tr style=\"text-align: right;\">\n",
       "      <th></th>\n",
       "      <th>Loan_ID</th>\n",
       "      <th>Gender</th>\n",
       "      <th>Married</th>\n",
       "      <th>Dependents</th>\n",
       "      <th>Education</th>\n",
       "      <th>Self_Employed</th>\n",
       "      <th>ApplicantIncome</th>\n",
       "      <th>CoapplicantIncome</th>\n",
       "      <th>LoanAmount</th>\n",
       "      <th>Loan_Amount_Term</th>\n",
       "      <th>Credit_History</th>\n",
       "      <th>Property_Area</th>\n",
       "      <th>Loan_Status</th>\n",
       "      <th>amount_cat</th>\n",
       "      <th>ingresos_cat</th>\n",
       "    </tr>\n",
       "  </thead>\n",
       "  <tbody>\n",
       "    <tr>\n",
       "      <th>0</th>\n",
       "      <td>LP001003</td>\n",
       "      <td>Male</td>\n",
       "      <td>Yes</td>\n",
       "      <td>1</td>\n",
       "      <td>Graduate</td>\n",
       "      <td>No</td>\n",
       "      <td>4583</td>\n",
       "      <td>1508.0</td>\n",
       "      <td>128.0</td>\n",
       "      <td>360.0</td>\n",
       "      <td>1.0</td>\n",
       "      <td>Rural</td>\n",
       "      <td>N</td>\n",
       "      <td>4</td>\n",
       "      <td>4</td>\n",
       "    </tr>\n",
       "    <tr>\n",
       "      <th>1</th>\n",
       "      <td>LP001005</td>\n",
       "      <td>Male</td>\n",
       "      <td>Yes</td>\n",
       "      <td>0</td>\n",
       "      <td>Graduate</td>\n",
       "      <td>Yes</td>\n",
       "      <td>3000</td>\n",
       "      <td>0.0</td>\n",
       "      <td>66.0</td>\n",
       "      <td>360.0</td>\n",
       "      <td>1.0</td>\n",
       "      <td>Urban</td>\n",
       "      <td>Y</td>\n",
       "      <td>1</td>\n",
       "      <td>2</td>\n",
       "    </tr>\n",
       "    <tr>\n",
       "      <th>2</th>\n",
       "      <td>LP001006</td>\n",
       "      <td>Male</td>\n",
       "      <td>Yes</td>\n",
       "      <td>0</td>\n",
       "      <td>Not Graduate</td>\n",
       "      <td>No</td>\n",
       "      <td>2583</td>\n",
       "      <td>2358.0</td>\n",
       "      <td>120.0</td>\n",
       "      <td>360.0</td>\n",
       "      <td>1.0</td>\n",
       "      <td>Urban</td>\n",
       "      <td>Y</td>\n",
       "      <td>3</td>\n",
       "      <td>1</td>\n",
       "    </tr>\n",
       "    <tr>\n",
       "      <th>3</th>\n",
       "      <td>LP001008</td>\n",
       "      <td>Male</td>\n",
       "      <td>No</td>\n",
       "      <td>0</td>\n",
       "      <td>Graduate</td>\n",
       "      <td>No</td>\n",
       "      <td>6000</td>\n",
       "      <td>0.0</td>\n",
       "      <td>141.0</td>\n",
       "      <td>360.0</td>\n",
       "      <td>1.0</td>\n",
       "      <td>Urban</td>\n",
       "      <td>Y</td>\n",
       "      <td>5</td>\n",
       "      <td>4</td>\n",
       "    </tr>\n",
       "    <tr>\n",
       "      <th>4</th>\n",
       "      <td>LP001013</td>\n",
       "      <td>Male</td>\n",
       "      <td>Yes</td>\n",
       "      <td>0</td>\n",
       "      <td>Not Graduate</td>\n",
       "      <td>No</td>\n",
       "      <td>2333</td>\n",
       "      <td>1516.0</td>\n",
       "      <td>95.0</td>\n",
       "      <td>360.0</td>\n",
       "      <td>1.0</td>\n",
       "      <td>Urban</td>\n",
       "      <td>Y</td>\n",
       "      <td>2</td>\n",
       "      <td>1</td>\n",
       "    </tr>\n",
       "    <tr>\n",
       "      <th>...</th>\n",
       "      <td>...</td>\n",
       "      <td>...</td>\n",
       "      <td>...</td>\n",
       "      <td>...</td>\n",
       "      <td>...</td>\n",
       "      <td>...</td>\n",
       "      <td>...</td>\n",
       "      <td>...</td>\n",
       "      <td>...</td>\n",
       "      <td>...</td>\n",
       "      <td>...</td>\n",
       "      <td>...</td>\n",
       "      <td>...</td>\n",
       "      <td>...</td>\n",
       "      <td>...</td>\n",
       "    </tr>\n",
       "    <tr>\n",
       "      <th>376</th>\n",
       "      <td>LP002953</td>\n",
       "      <td>Male</td>\n",
       "      <td>Yes</td>\n",
       "      <td>3+</td>\n",
       "      <td>Graduate</td>\n",
       "      <td>No</td>\n",
       "      <td>5703</td>\n",
       "      <td>0.0</td>\n",
       "      <td>128.0</td>\n",
       "      <td>360.0</td>\n",
       "      <td>1.0</td>\n",
       "      <td>Urban</td>\n",
       "      <td>Y</td>\n",
       "      <td>4</td>\n",
       "      <td>4</td>\n",
       "    </tr>\n",
       "    <tr>\n",
       "      <th>377</th>\n",
       "      <td>LP002974</td>\n",
       "      <td>Male</td>\n",
       "      <td>Yes</td>\n",
       "      <td>0</td>\n",
       "      <td>Graduate</td>\n",
       "      <td>No</td>\n",
       "      <td>3232</td>\n",
       "      <td>1950.0</td>\n",
       "      <td>108.0</td>\n",
       "      <td>360.0</td>\n",
       "      <td>1.0</td>\n",
       "      <td>Rural</td>\n",
       "      <td>Y</td>\n",
       "      <td>2</td>\n",
       "      <td>2</td>\n",
       "    </tr>\n",
       "    <tr>\n",
       "      <th>378</th>\n",
       "      <td>LP002978</td>\n",
       "      <td>Female</td>\n",
       "      <td>No</td>\n",
       "      <td>0</td>\n",
       "      <td>Graduate</td>\n",
       "      <td>No</td>\n",
       "      <td>2900</td>\n",
       "      <td>0.0</td>\n",
       "      <td>71.0</td>\n",
       "      <td>360.0</td>\n",
       "      <td>1.0</td>\n",
       "      <td>Rural</td>\n",
       "      <td>Y</td>\n",
       "      <td>1</td>\n",
       "      <td>2</td>\n",
       "    </tr>\n",
       "    <tr>\n",
       "      <th>379</th>\n",
       "      <td>LP002979</td>\n",
       "      <td>Male</td>\n",
       "      <td>Yes</td>\n",
       "      <td>3+</td>\n",
       "      <td>Graduate</td>\n",
       "      <td>No</td>\n",
       "      <td>4106</td>\n",
       "      <td>0.0</td>\n",
       "      <td>40.0</td>\n",
       "      <td>180.0</td>\n",
       "      <td>1.0</td>\n",
       "      <td>Rural</td>\n",
       "      <td>Y</td>\n",
       "      <td>1</td>\n",
       "      <td>3</td>\n",
       "    </tr>\n",
       "    <tr>\n",
       "      <th>380</th>\n",
       "      <td>LP002990</td>\n",
       "      <td>Female</td>\n",
       "      <td>No</td>\n",
       "      <td>0</td>\n",
       "      <td>Graduate</td>\n",
       "      <td>Yes</td>\n",
       "      <td>4583</td>\n",
       "      <td>0.0</td>\n",
       "      <td>133.0</td>\n",
       "      <td>360.0</td>\n",
       "      <td>0.0</td>\n",
       "      <td>Semiurban</td>\n",
       "      <td>N</td>\n",
       "      <td>4</td>\n",
       "      <td>4</td>\n",
       "    </tr>\n",
       "  </tbody>\n",
       "</table>\n",
       "<p>381 rows × 15 columns</p>\n",
       "</div>"
      ],
      "text/plain": [
       "      Loan_ID  Gender Married Dependents     Education Self_Employed  \\\n",
       "0    LP001003    Male     Yes          1      Graduate            No   \n",
       "1    LP001005    Male     Yes          0      Graduate           Yes   \n",
       "2    LP001006    Male     Yes          0  Not Graduate            No   \n",
       "3    LP001008    Male      No          0      Graduate            No   \n",
       "4    LP001013    Male     Yes          0  Not Graduate            No   \n",
       "..        ...     ...     ...        ...           ...           ...   \n",
       "376  LP002953    Male     Yes         3+      Graduate            No   \n",
       "377  LP002974    Male     Yes          0      Graduate            No   \n",
       "378  LP002978  Female      No          0      Graduate            No   \n",
       "379  LP002979    Male     Yes         3+      Graduate            No   \n",
       "380  LP002990  Female      No          0      Graduate           Yes   \n",
       "\n",
       "     ApplicantIncome  CoapplicantIncome  LoanAmount  Loan_Amount_Term  \\\n",
       "0               4583             1508.0       128.0             360.0   \n",
       "1               3000                0.0        66.0             360.0   \n",
       "2               2583             2358.0       120.0             360.0   \n",
       "3               6000                0.0       141.0             360.0   \n",
       "4               2333             1516.0        95.0             360.0   \n",
       "..               ...                ...         ...               ...   \n",
       "376             5703                0.0       128.0             360.0   \n",
       "377             3232             1950.0       108.0             360.0   \n",
       "378             2900                0.0        71.0             360.0   \n",
       "379             4106                0.0        40.0             180.0   \n",
       "380             4583                0.0       133.0             360.0   \n",
       "\n",
       "     Credit_History Property_Area Loan_Status amount_cat ingresos_cat  \n",
       "0               1.0         Rural           N          4            4  \n",
       "1               1.0         Urban           Y          1            2  \n",
       "2               1.0         Urban           Y          3            1  \n",
       "3               1.0         Urban           Y          5            4  \n",
       "4               1.0         Urban           Y          2            1  \n",
       "..              ...           ...         ...        ...          ...  \n",
       "376             1.0         Urban           Y          4            4  \n",
       "377             1.0         Rural           Y          2            2  \n",
       "378             1.0         Rural           Y          1            2  \n",
       "379             1.0         Rural           Y          1            3  \n",
       "380             0.0     Semiurban           N          4            4  \n",
       "\n",
       "[381 rows x 15 columns]"
      ]
     },
     "execution_count": 136,
     "metadata": {},
     "output_type": "execute_result"
    }
   ],
   "source": [
    "##Estratificación de los datos: ingresos del aplicante(ApplicantIncome)\n",
    "prestamos[\"ingresos_cat\"] = pd.cut(prestamos[\"ApplicantIncome\"],\n",
    "                                 bins = [0, 2600, 3333, 4288, 6000, np.inf],\n",
    "                                   labels = [1, 2, 3, 4, 5])\n",
    "prestamos"
   ]
  },
  {
   "cell_type": "markdown",
   "id": "f7c3f37a-7f25-45c4-81f0-f0805703b094",
   "metadata": {},
   "source": []
  },
  {
   "cell_type": "code",
   "execution_count": null,
   "id": "ab8b0914-c40f-4430-a787-cbe2485df099",
   "metadata": {},
   "outputs": [],
   "source": []
  },
  {
   "cell_type": "code",
   "execution_count": 137,
   "id": "24ad151e-edc5-4ea5-bc5f-b99b6fa3e76f",
   "metadata": {},
   "outputs": [
    {
     "name": "stdout",
     "output_type": "stream",
     "text": [
      "Tamaño del train_set (304, 15)\n",
      "Tamaño del test_set (77, 15)\n"
     ]
    }
   ],
   "source": [
    "from sklearn.model_selection import train_test_split\n",
    " \n",
    "train_set, test_set = train_test_split(prestamos, test_size=0.2, random_state=42)\n",
    " \n",
    "print('Tamaño del train_set',train_set.shape)\n",
    "print('Tamaño del test_set',test_set.shape)"
   ]
  },
  {
   "cell_type": "code",
   "execution_count": 138,
   "id": "f9fa0436-f9dd-4fab-9fe2-d6e8dc4f519c",
   "metadata": {},
   "outputs": [],
   "source": [
    "## Comparacion de sets aleatorios y estratificados\n",
    "# Función calcula la proporción de cada categoría de ingreso\n",
    "def amount_cat_proportions(data):\n",
    "    return data[\"amount_cat\"].value_counts() / len(data)"
   ]
  },
  {
   "cell_type": "code",
   "execution_count": 139,
   "id": "3f1bcbf7-1f05-4694-ab35-fbbbda2c937e",
   "metadata": {},
   "outputs": [
    {
     "data": {
      "text/plain": [
       "amount_cat\n",
       "1    0.256579\n",
       "2    0.243421\n",
       "3    0.240132\n",
       "4    0.200658\n",
       "5    0.059211\n",
       "Name: count, dtype: float64"
      ]
     },
     "execution_count": 139,
     "metadata": {},
     "output_type": "execute_result"
    }
   ],
   "source": [
    "# Calcular la proporciones del training set aleatorio \n",
    "amount_cat_proportions(train_set)"
   ]
  },
  {
   "cell_type": "code",
   "execution_count": null,
   "id": "41e02541-e2ca-4b73-9a5f-5bf330a504d9",
   "metadata": {},
   "outputs": [],
   "source": [
    "\n"
   ]
  },
  {
   "cell_type": "code",
   "execution_count": 140,
   "id": "d40b344a-7192-4400-8bb6-31f1c0b3e3df",
   "metadata": {},
   "outputs": [
    {
     "data": {
      "text/plain": [
       "count     381.000000\n",
       "mean     3579.845144\n",
       "std      1419.813818\n",
       "min       150.000000\n",
       "25%      2600.000000\n",
       "50%      3333.000000\n",
       "75%      4288.000000\n",
       "max      9703.000000\n",
       "Name: ApplicantIncome, dtype: float64"
      ]
     },
     "execution_count": 140,
     "metadata": {},
     "output_type": "execute_result"
    }
   ],
   "source": [
    "prestamos[\"ApplicantIncome\"].describe()"
   ]
  },
  {
   "cell_type": "code",
   "execution_count": 141,
   "id": "a06d85fc-64cf-4ef9-aa44-7bf143fa6f11",
   "metadata": {},
   "outputs": [
    {
     "data": {
      "image/png": "[encoded data removed]",
      "text/plain": [
       "<Figure size 640x480 with 1 Axes>"
      ]
     },
     "metadata": {},
     "output_type": "display_data"
    }
   ],
   "source": [
    "prestamos[\"ingresos_cat\"].value_counts().sort_index().plot.bar(color='mediumseagreen', edgecolor='black',rot=0,grid=True)\n",
    "\n",
    "plt.title(\"Distribución por categoría de ingresos del solicitante\", fontsize=14, fontweight='bold')\n",
    "plt.xlabel(\"Categoría de ingresos\", fontsize=12)\n",
    "plt.ylabel(\"Cantidad de registros\", fontsize=12)\n",
    "plt.tight_layout()\n",
    "plt.show()\n"
   ]
  },
  {
   "cell_type": "code",
   "execution_count": null,
   "id": "21b805ec-c8b5-456a-acd0-3b873bd59f69",
   "metadata": {},
   "outputs": [],
   "source": []
  },
  {
   "cell_type": "code",
   "execution_count": null,
   "id": "b31f3bc1-3f12-4cb4-911c-5c2e287a012c",
   "metadata": {},
   "outputs": [],
   "source": []
  },
  {
   "cell_type": "code",
   "execution_count": 142,
   "id": "559c884a-05ec-41c9-8156-6e92af1d7da4",
   "metadata": {},
   "outputs": [],
   "source": [
    "## Comparacion de sets aleatorios y estratificados\n",
    "# Función calcula la proporción de cada categoría de ingreso\n",
    "def ingresos_cat_proportions(data):\n",
    "    return data[\"ingresos_cat\"].value_counts() / len(data)"
   ]
  },
  {
   "cell_type": "code",
   "execution_count": 143,
   "id": "5bd2b4f1-47c8-403b-8121-d3db7d227e97",
   "metadata": {},
   "outputs": [
    {
     "data": {
      "text/plain": [
       "ingresos_cat\n",
       "3    0.263158\n",
       "2    0.246711\n",
       "1    0.243421\n",
       "4    0.190789\n",
       "5    0.055921\n",
       "Name: count, dtype: float64"
      ]
     },
     "execution_count": 143,
     "metadata": {},
     "output_type": "execute_result"
    }
   ],
   "source": [
    "# Calcular la proporciones del training set aleatorio \n",
    "ingresos_cat_proportions(train_set)"
   ]
  },
  {
   "cell_type": "code",
   "execution_count": null,
   "id": "b9bddc4d-d2f2-4228-837f-a173e9e3353f",
   "metadata": {},
   "outputs": [],
   "source": []
  },
  {
   "cell_type": "code",
   "execution_count": 144,
   "id": "1c197558-52eb-4b9a-aea5-75edd307e98d",
   "metadata": {},
   "outputs": [
    {
     "name": "stdout",
     "output_type": "stream",
     "text": [
      "6      True\n",
      "10     True\n",
      "13     True\n",
      "16     True\n",
      "20     True\n",
      "       ... \n",
      "354    True\n",
      "361    True\n",
      "366    True\n",
      "370    True\n",
      "375    True\n",
      "Length: 73, dtype: bool\n"
     ]
    },
    {
     "data": {
      "text/html": [
       "<div>\n",
       "<style scoped>\n",
       "    .dataframe tbody tr th:only-of-type {\n",
       "        vertical-align: middle;\n",
       "    }\n",
       "\n",
       "    .dataframe tbody tr th {\n",
       "        vertical-align: top;\n",
       "    }\n",
       "\n",
       "    .dataframe thead th {\n",
       "        text-align: right;\n",
       "    }\n",
       "</style>\n",
       "<table border=\"1\" class=\"dataframe\">\n",
       "  <thead>\n",
       "    <tr style=\"text-align: right;\">\n",
       "      <th></th>\n",
       "      <th>Loan_ID</th>\n",
       "      <th>Gender</th>\n",
       "      <th>Married</th>\n",
       "      <th>Dependents</th>\n",
       "      <th>Education</th>\n",
       "      <th>Self_Employed</th>\n",
       "      <th>ApplicantIncome</th>\n",
       "      <th>CoapplicantIncome</th>\n",
       "      <th>LoanAmount</th>\n",
       "      <th>Loan_Amount_Term</th>\n",
       "      <th>Credit_History</th>\n",
       "      <th>Property_Area</th>\n",
       "      <th>Loan_Status</th>\n",
       "      <th>amount_cat</th>\n",
       "      <th>ingresos_cat</th>\n",
       "    </tr>\n",
       "  </thead>\n",
       "  <tbody>\n",
       "    <tr>\n",
       "      <th>6</th>\n",
       "      <td>LP001027</td>\n",
       "      <td>Male</td>\n",
       "      <td>Yes</td>\n",
       "      <td>2</td>\n",
       "      <td>Graduate</td>\n",
       "      <td>NaN</td>\n",
       "      <td>2500</td>\n",
       "      <td>1840.0</td>\n",
       "      <td>109.0</td>\n",
       "      <td>360.0</td>\n",
       "      <td>1.0</td>\n",
       "      <td>Urban</td>\n",
       "      <td>Y</td>\n",
       "      <td>2</td>\n",
       "      <td>1</td>\n",
       "    </tr>\n",
       "    <tr>\n",
       "      <th>10</th>\n",
       "      <td>LP001034</td>\n",
       "      <td>Male</td>\n",
       "      <td>No</td>\n",
       "      <td>1</td>\n",
       "      <td>Not Graduate</td>\n",
       "      <td>No</td>\n",
       "      <td>3596</td>\n",
       "      <td>0.0</td>\n",
       "      <td>100.0</td>\n",
       "      <td>240.0</td>\n",
       "      <td>NaN</td>\n",
       "      <td>Urban</td>\n",
       "      <td>Y</td>\n",
       "      <td>2</td>\n",
       "      <td>3</td>\n",
       "    </tr>\n",
       "    <tr>\n",
       "      <th>13</th>\n",
       "      <td>LP001041</td>\n",
       "      <td>Male</td>\n",
       "      <td>Yes</td>\n",
       "      <td>0</td>\n",
       "      <td>Graduate</td>\n",
       "      <td>NaN</td>\n",
       "      <td>2600</td>\n",
       "      <td>3500.0</td>\n",
       "      <td>115.0</td>\n",
       "      <td>NaN</td>\n",
       "      <td>1.0</td>\n",
       "      <td>Urban</td>\n",
       "      <td>Y</td>\n",
       "      <td>3</td>\n",
       "      <td>1</td>\n",
       "    </tr>\n",
       "    <tr>\n",
       "      <th>16</th>\n",
       "      <td>LP001050</td>\n",
       "      <td>NaN</td>\n",
       "      <td>Yes</td>\n",
       "      <td>2</td>\n",
       "      <td>Not Graduate</td>\n",
       "      <td>No</td>\n",
       "      <td>3365</td>\n",
       "      <td>1917.0</td>\n",
       "      <td>112.0</td>\n",
       "      <td>360.0</td>\n",
       "      <td>0.0</td>\n",
       "      <td>Rural</td>\n",
       "      <td>N</td>\n",
       "      <td>3</td>\n",
       "      <td>3</td>\n",
       "    </tr>\n",
       "    <tr>\n",
       "      <th>20</th>\n",
       "      <td>LP001087</td>\n",
       "      <td>Female</td>\n",
       "      <td>No</td>\n",
       "      <td>2</td>\n",
       "      <td>Graduate</td>\n",
       "      <td>NaN</td>\n",
       "      <td>3750</td>\n",
       "      <td>2083.0</td>\n",
       "      <td>120.0</td>\n",
       "      <td>360.0</td>\n",
       "      <td>1.0</td>\n",
       "      <td>Semiurban</td>\n",
       "      <td>Y</td>\n",
       "      <td>3</td>\n",
       "      <td>3</td>\n",
       "    </tr>\n",
       "  </tbody>\n",
       "</table>\n",
       "</div>"
      ],
      "text/plain": [
       "     Loan_ID  Gender Married Dependents     Education Self_Employed  \\\n",
       "6   LP001027    Male     Yes          2      Graduate           NaN   \n",
       "10  LP001034    Male      No          1  Not Graduate            No   \n",
       "13  LP001041    Male     Yes          0      Graduate           NaN   \n",
       "16  LP001050     NaN     Yes          2  Not Graduate            No   \n",
       "20  LP001087  Female      No          2      Graduate           NaN   \n",
       "\n",
       "    ApplicantIncome  CoapplicantIncome  LoanAmount  Loan_Amount_Term  \\\n",
       "6              2500             1840.0       109.0             360.0   \n",
       "10             3596                0.0       100.0             240.0   \n",
       "13             2600             3500.0       115.0               NaN   \n",
       "16             3365             1917.0       112.0             360.0   \n",
       "20             3750             2083.0       120.0             360.0   \n",
       "\n",
       "    Credit_History Property_Area Loan_Status amount_cat ingresos_cat  \n",
       "6              1.0         Urban           Y          2            1  \n",
       "10             NaN         Urban           Y          2            3  \n",
       "13             1.0         Urban           Y          3            1  \n",
       "16             0.0         Rural           N          3            3  \n",
       "20             1.0     Semiurban           Y          3            3  "
      ]
     },
     "execution_count": 144,
     "metadata": {},
     "output_type": "execute_result"
    }
   ],
   "source": [
    "# Forma de identificar nulos\n",
    "null_rows_idx = prestamos.isnull().any(axis=1)\n",
    "print(null_rows_idx[null_rows_idx == True])\n",
    "prestamos.loc[null_rows_idx].head()"
   ]
  },
  {
   "cell_type": "code",
   "execution_count": 145,
   "id": "f42269a9-b369-4a9d-aa53-f4d08e8a5007",
   "metadata": {},
   "outputs": [
    {
     "name": "stdout",
     "output_type": "stream",
     "text": [
      "Loan_ID               0\n",
      "Gender                5\n",
      "Married               0\n",
      "Dependents            8\n",
      "Education             0\n",
      "Self_Employed        21\n",
      "ApplicantIncome       0\n",
      "CoapplicantIncome     0\n",
      "LoanAmount            0\n",
      "Loan_Amount_Term     11\n",
      "Credit_History       30\n",
      "Property_Area         0\n",
      "Loan_Status           0\n",
      "amount_cat            0\n",
      "ingresos_cat          0\n",
      "dtype: int64\n"
     ]
    }
   ],
   "source": [
    "print(prestamos.isnull().sum())"
   ]
  },
  {
   "cell_type": "code",
   "execution_count": 191,
   "id": "17f99f2e-0b91-4dca-94ff-8046ca2916ed",
   "metadata": {},
   "outputs": [
    {
     "name": "stdout",
     "output_type": "stream",
     "text": [
      "[0 1]\n"
     ]
    }
   ],
   "source": [
    "#hay_nan_original = prestamosOriginal['Loan_Status'].isnull().any()\n",
    "prestamos[\"Loan_Status\"] = prestamos[\"Loan_Status\"].map({'Y': 1, 'N': 0})\n",
    "prestamos[\"Loan_Status\"].head()\n",
    "print(prestamos[\"Loan_Status\"].unique())"
   ]
  },
  {
   "cell_type": "code",
   "execution_count": 192,
   "id": "37e7edb9-fc94-4d59-a885-f29a048ddf14",
   "metadata": {},
   "outputs": [],
   "source": [
    "from sklearn.impute import SimpleImputer\n",
    " \n",
    "imputer = SimpleImputer(strategy=\"median\")"
   ]
  },
  {
   "cell_type": "markdown",
   "id": "86347aa4",
   "metadata": {},
   "source": [
    "## Preprocesamiento"
   ]
  },
  {
   "cell_type": "code",
   "execution_count": 193,
   "id": "9f8fd8fc-0a98-4539-bdbf-974e691a1591",
   "metadata": {},
   "outputs": [
    {
     "name": "stdout",
     "output_type": "stream",
     "text": [
      "[0 1]\n"
     ]
    }
   ],
   "source": [
    "prestamos[\"ingresos_cat\"] = pd.cut(prestamos[\"ApplicantIncome\"],\n",
    "                                 bins = [0, 2600, 3333, 4288, 6000, np.inf],\n",
    "                                   labels = [1, 2, 3, 4, 5])\n",
    "print(prestamos[\"Loan_Status\"].unique())"
   ]
  },
  {
   "cell_type": "markdown",
   "id": "736f5aff-9065-4d5a-9768-5eedc3a1ded3",
   "metadata": {},
   "source": [
    "## Validamos si hay nulos por accidente"
   ]
  },
  {
   "cell_type": "code",
   "execution_count": null,
   "id": "32c524bd-ad86-4826-8c90-abe3d7a39777",
   "metadata": {},
   "outputs": [],
   "source": []
  },
  {
   "cell_type": "code",
   "execution_count": 194,
   "id": "d56f939e-5b24-4f45-bcf5-874fc7ea2f9d",
   "metadata": {},
   "outputs": [
    {
     "name": "stdout",
     "output_type": "stream",
     "text": [
      "¿Hay NaN en la columna? False\n"
     ]
    }
   ],
   "source": [
    "\n",
    "hay_nan = prestamos['Loan_Status'].isnull().any()\n",
    "#print(\"¿Hay NaN en la columna original?\", hay_nan_original)\n",
    "print(\"¿Hay NaN en la columna?\", hay_nan)"
   ]
  },
  {
   "cell_type": "code",
   "execution_count": 195,
   "id": "a45b45ea-e94b-4168-9cee-c0e5a6f4574a",
   "metadata": {},
   "outputs": [
    {
     "data": {
      "text/plain": [
       "0    0\n",
       "1    1\n",
       "2    1\n",
       "3    1\n",
       "4    1\n",
       "Name: Loan_Status, dtype: int64"
      ]
     },
     "execution_count": 195,
     "metadata": {},
     "output_type": "execute_result"
    }
   ],
   "source": [
    "prestamos[\"Loan_Status\"].head()"
   ]
  },
  {
   "cell_type": "markdown",
   "id": "610b0949-8025-43d5-9ecc-54bfa9fe851e",
   "metadata": {},
   "source": [
    "## DATOS DE ENTRENAMIENTO ESTRATIFICADOS"
   ]
  },
  {
   "cell_type": "code",
   "execution_count": 196,
   "id": "c566ad71-28e1-4e45-91aa-fe054e5d5f91",
   "metadata": {},
   "outputs": [
    {
     "name": "stdout",
     "output_type": "stream",
     "text": [
      "Tamaño del train_set (304, 15)\n",
      "Tamaño del test_set (77, 15)\n"
     ]
    }
   ],
   "source": [
    "#creamos los datasets estratificados\n",
    "from sklearn.model_selection import train_test_split\n",
    "strat_train_set, strat_test_set = train_test_split(prestamos, \n",
    "                                                   test_size=0.2, \n",
    "                                                   stratify=prestamos[\"ingresos_cat\"], \n",
    "                                                   random_state=42)\n",
    " \n",
    "print('Tamaño del train_set',strat_train_set.shape)\n",
    "print('Tamaño del test_set',strat_test_set.shape)"
   ]
  },
  {
   "cell_type": "code",
   "execution_count": 197,
   "id": "e65de0cf-5baf-4613-9529-53fb105e4e86",
   "metadata": {},
   "outputs": [
    {
     "data": {
      "text/plain": [
       "74     1\n",
       "44     1\n",
       "178    1\n",
       "283    1\n",
       "293    1\n",
       "Name: Loan_Status, dtype: int64"
      ]
     },
     "execution_count": 197,
     "metadata": {},
     "output_type": "execute_result"
    }
   ],
   "source": [
    "# Separar las variables predictivas de la variable objetivo\n",
    "prestamostrain = strat_train_set.drop(\"Loan_Status\", axis=1)\n",
    "prestamostrain_labels = strat_train_set[\"Loan_Status\"].copy()\n",
    "prestamostrain_labels.head()"
   ]
  },
  {
   "cell_type": "code",
   "execution_count": 198,
   "id": "531b9050-7750-4ecd-bcdf-cc45ce9bb184",
   "metadata": {},
   "outputs": [],
   "source": [
    "#Estos miden la capacidad de pago del solicitante y co-solicitante en relación al préstamo\n",
    "def income_to_loan(X):\n",
    "    total_income = X[:, [0]] + X[:, [1]]\n",
    "    return total_income / (X[:, [2]] + 1e-5)\n",
    "\n",
    "def income_to_loan_name(transformer, feature_names_in):\n",
    "    return [\"income_to_loan_ratio\"]\n",
    "#Estos sirven para analizar la dependencia del ingreso conjunto\n",
    "def applicant_to_coapplicant(X):\n",
    "    return X[:, [0]] / (X[:, [1]] + 1e-5)\n",
    "\n",
    "def applicant_to_coapplicant_name(transformer, feature_names_in):\n",
    "    return [\"applicant_to_coapplicant_ratio\"]\n",
    "#Estos se usan para ver qué porcentaje del ingreso representa el préstamo\n",
    "def loan_to_income(X):\n",
    "    total_income = X[:, [0]] + X[:, [1]]\n",
    "    return X[:, [2]] / (total_income + 1e-5)\n",
    "\n",
    "def loan_to_income_name(transformer, feature_names_in):\n",
    "    return [\"loan_to_income_ratio\"]\n",
    "#Estos se usan para ver la carga mensual o anual del solicitante\n",
    "def loan_to_term(X):\n",
    "    return X[:, [0]] / (X[:, [1]] + 1e-5)\n",
    "\n",
    "def loan_to_term_name(transformer, feature_names_in):\n",
    "    return [\"loan_to_term_ratio\"]"
   ]
  },
  {
   "cell_type": "code",
   "execution_count": 199,
   "id": "b1c1b26b-6e15-4d2b-8f50-d7982609932e",
   "metadata": {},
   "outputs": [],
   "source": [
    "from sklearn.compose import ColumnTransformer\n",
    "from sklearn.preprocessing import StandardScaler\n",
    "from sklearn.impute import SimpleImputer\n",
    "from sklearn.pipeline import make_pipeline\n",
    "from sklearn.preprocessing import FunctionTransformer\n",
    "income_to_loan_pipeline = make_pipeline(\n",
    "    SimpleImputer(strategy=\"median\"),\n",
    "    FunctionTransformer(income_to_loan, feature_names_out=income_to_loan_name),\n",
    "    StandardScaler()\n",
    ")\n",
    "\n",
    "applicant_to_coapplicant_pipeline = make_pipeline(\n",
    "    SimpleImputer(strategy=\"median\"),\n",
    "    FunctionTransformer(applicant_to_coapplicant, feature_names_out=applicant_to_coapplicant_name),\n",
    "    StandardScaler()\n",
    ")\n",
    "\n",
    "loan_to_income_pipeline = make_pipeline(\n",
    "    SimpleImputer(strategy=\"median\"),\n",
    "    FunctionTransformer(loan_to_income, feature_names_out=loan_to_income_name),\n",
    "    StandardScaler()\n",
    ")\n",
    "\n",
    "loan_to_term_pipeline = make_pipeline(\n",
    "    SimpleImputer(strategy=\"median\"),\n",
    "    FunctionTransformer(loan_to_term, feature_names_out=loan_to_term_name),\n",
    "    StandardScaler()\n",
    ")\n",
    "from category_encoders import CountEncoder\n",
    "# Pipeline para variables categóricas Ordinal\n",
    "cat_count_pipeline = make_pipeline(\n",
    "    SimpleImputer(strategy=\"most_frequent\"),\n",
    "    CountEncoder()\n",
    ")\n",
    "\n",
    "# Pipeline para variables numéricas restantes\n",
    "default_num_pipeline = make_pipeline(\n",
    "    SimpleImputer(strategy=\"median\"),\n",
    "    StandardScaler()\n",
    ")"
   ]
  },
  {
   "cell_type": "code",
   "execution_count": 200,
   "id": "83288a15-c71f-4ade-907d-aac06aa43339",
   "metadata": {},
   "outputs": [],
   "source": [
    "preprocessing = ColumnTransformer([\n",
    "    (\"income_to_loan\", income_to_loan_pipeline, [\"ApplicantIncome\", \"CoapplicantIncome\", \"LoanAmount\"]),\n",
    "    (\"applicant_to_coapplicant\", applicant_to_coapplicant_pipeline, [\"ApplicantIncome\", \"CoapplicantIncome\"]),\n",
    "    (\"loan_to_income\", loan_to_income_pipeline, [\"ApplicantIncome\", \"CoapplicantIncome\", \"LoanAmount\"]),\n",
    "    (\"loan_to_term\", loan_to_term_pipeline, [\"LoanAmount\", \"Loan_Amount_Term\"]),\n",
    "    (\"cat\", cat_count_pipeline, make_column_selector(dtype_include=object))  # <-- actualizamos esto\n",
    "], remainder=default_num_pipeline)"
   ]
  },
  {
   "cell_type": "code",
   "execution_count": 201,
   "id": "98d34177-d2a0-4c24-8f8d-1d4400f6161b",
   "metadata": {},
   "outputs": [
    {
     "name": "stdout",
     "output_type": "stream",
     "text": [
      "<class 'numpy.ndarray'>\n",
      "(304, 14)\n"
     ]
    }
   ],
   "source": [
    "# Aplica el preprocesamiento automátizado\n",
    "X = preprocessing.fit_transform(prestamostrain)\n",
    "print(type(X))\n",
    "print(X.shape)"
   ]
  },
  {
   "cell_type": "code",
   "execution_count": 202,
   "id": "33b92d09-7e12-4b8a-8fba-511764c3815c",
   "metadata": {},
   "outputs": [
    {
     "data": {
      "text/html": [
       "<div>\n",
       "<style scoped>\n",
       "    .dataframe tbody tr th:only-of-type {\n",
       "        vertical-align: middle;\n",
       "    }\n",
       "\n",
       "    .dataframe tbody tr th {\n",
       "        vertical-align: top;\n",
       "    }\n",
       "\n",
       "    .dataframe thead th {\n",
       "        text-align: right;\n",
       "    }\n",
       "</style>\n",
       "<table border=\"1\" class=\"dataframe\">\n",
       "  <thead>\n",
       "    <tr style=\"text-align: right;\">\n",
       "      <th></th>\n",
       "      <th>income_to_loan__income_to_loan_ratio</th>\n",
       "      <th>applicant_to_coapplicant__applicant_to_coapplicant_ratio</th>\n",
       "      <th>loan_to_income__loan_to_income_ratio</th>\n",
       "      <th>loan_to_term__loan_to_term_ratio</th>\n",
       "      <th>cat__0</th>\n",
       "      <th>cat__1</th>\n",
       "      <th>cat__2</th>\n",
       "      <th>cat__3</th>\n",
       "      <th>cat__4</th>\n",
       "      <th>cat__5</th>\n",
       "      <th>cat__6</th>\n",
       "      <th>remainder__Credit_History</th>\n",
       "      <th>remainder__amount_cat</th>\n",
       "      <th>remainder__ingresos_cat</th>\n",
       "    </tr>\n",
       "  </thead>\n",
       "  <tbody>\n",
       "    <tr>\n",
       "      <th>74</th>\n",
       "      <td>-0.352710</td>\n",
       "      <td>1.461968</td>\n",
       "      <td>0.356319</td>\n",
       "      <td>0.034177</td>\n",
       "      <td>1.0</td>\n",
       "      <td>237.0</td>\n",
       "      <td>130.0</td>\n",
       "      <td>195.0</td>\n",
       "      <td>223.0</td>\n",
       "      <td>275.0</td>\n",
       "      <td>96.0</td>\n",
       "      <td>0.400381</td>\n",
       "      <td>1.198635</td>\n",
       "      <td>1.177683</td>\n",
       "    </tr>\n",
       "    <tr>\n",
       "      <th>44</th>\n",
       "      <td>-0.232557</td>\n",
       "      <td>-0.825365</td>\n",
       "      <td>0.024008</td>\n",
       "      <td>0.074821</td>\n",
       "      <td>1.0</td>\n",
       "      <td>237.0</td>\n",
       "      <td>174.0</td>\n",
       "      <td>46.0</td>\n",
       "      <td>81.0</td>\n",
       "      <td>275.0</td>\n",
       "      <td>96.0</td>\n",
       "      <td>0.400381</td>\n",
       "      <td>1.999481</td>\n",
       "      <td>0.367693</td>\n",
       "    </tr>\n",
       "  </tbody>\n",
       "</table>\n",
       "</div>"
      ],
      "text/plain": [
       "    income_to_loan__income_to_loan_ratio  \\\n",
       "74                             -0.352710   \n",
       "44                             -0.232557   \n",
       "\n",
       "    applicant_to_coapplicant__applicant_to_coapplicant_ratio  \\\n",
       "74                                           1.461968          \n",
       "44                                          -0.825365          \n",
       "\n",
       "    loan_to_income__loan_to_income_ratio  loan_to_term__loan_to_term_ratio  \\\n",
       "74                              0.356319                          0.034177   \n",
       "44                              0.024008                          0.074821   \n",
       "\n",
       "    cat__0  cat__1  cat__2  cat__3  cat__4  cat__5  cat__6  \\\n",
       "74     1.0   237.0   130.0   195.0   223.0   275.0    96.0   \n",
       "44     1.0   237.0   174.0    46.0    81.0   275.0    96.0   \n",
       "\n",
       "    remainder__Credit_History  remainder__amount_cat  remainder__ingresos_cat  \n",
       "74                   0.400381               1.198635                 1.177683  \n",
       "44                   0.400381               1.999481                 0.367693  "
      ]
     },
     "execution_count": 202,
     "metadata": {},
     "output_type": "execute_result"
    }
   ],
   "source": [
    "prestamostrainProc = pd.DataFrame(X,\n",
    "                               columns=preprocessing.get_feature_names_out(),\n",
    "                               index=prestamostrain.index)\n",
    "prestamostrainProc.head(2)"
   ]
  },
  {
   "cell_type": "markdown",
   "id": "b3e3f6a7-8721-4de9-963b-aaa007f9d58b",
   "metadata": {},
   "source": [
    "# Entranemiento de los modelos"
   ]
  },
  {
   "cell_type": "code",
   "execution_count": 203,
   "id": "d18ff1da-5967-44c9-907d-2c09e50b156f",
   "metadata": {},
   "outputs": [],
   "source": [
    "from sklearn.metrics import precision_score, recall_score, accuracy_score, confusion_matrix, classification_report"
   ]
  },
  {
   "cell_type": "markdown",
   "id": "9f03355d-d9ab-40cf-88c1-5f6d40ec1ae6",
   "metadata": {},
   "source": [
    "## SVC Maquina de soporte vectorial"
   ]
  },
  {
   "cell_type": "code",
   "execution_count": 204,
   "id": "a43d0bca-c6f7-4bc9-b818-f4ad8c028909",
   "metadata": {},
   "outputs": [
    {
     "data": {
      "text/plain": [
       "array([1, 1, 0, 0, 0, 1, 1, 1, 1, 1], dtype=int64)"
      ]
     },
     "execution_count": 204,
     "metadata": {},
     "output_type": "execute_result"
    }
   ],
   "source": [
    "from sklearn.svm import SVC\n",
    "from sklearn.model_selection import cross_val_predict\n",
    "svc_cls = make_pipeline(preprocessing, SVC(C=10, gamma='auto', class_weight='balanced'))\n",
    "\n",
    "y_pred_svc = cross_val_predict(svc_cls, prestamostrain, prestamostrain_labels, cv=3)\n",
    "\n",
    "y_pred_svc[:10]"
   ]
  },
  {
   "cell_type": "code",
   "execution_count": 205,
   "id": "a818b63a-4225-42bc-97ce-2419fbae71e6",
   "metadata": {},
   "outputs": [
    {
     "name": "stdout",
     "output_type": "stream",
     "text": [
      "Precisión: 0.7619047619047619\n",
      "Recall: 0.8262910798122066\n",
      "Accuracy: 0.6973684210526315\n",
      "Matriz de confusión:\n",
      " [[ 36  55]\n",
      " [ 37 176]]\n",
      "Reporte de clasificación:\n",
      "               precision    recall  f1-score   support\n",
      "\n",
      "           0       0.49      0.40      0.44        91\n",
      "           1       0.76      0.83      0.79       213\n",
      "\n",
      "    accuracy                           0.70       304\n",
      "   macro avg       0.63      0.61      0.62       304\n",
      "weighted avg       0.68      0.70      0.69       304\n",
      "\n"
     ]
    }
   ],
   "source": [
    "precision_svc = precision_score(prestamostrain_labels, y_pred_svc)\n",
    "recall_svc = recall_score(prestamostrain_labels, y_pred_svc)\n",
    "accuracy_svc = accuracy_score(prestamostrain_labels, y_pred_svc)\n",
    "\n",
    "print(f\"Precisión: {precision_svc}\")\n",
    "print(f\"Recall: {recall_svc}\")\n",
    "print(f\"Accuracy: {accuracy_svc}\")\n",
    "\n",
    "print(\"Matriz de confusión:\\n\", confusion_matrix(prestamostrain_labels, y_pred_svc))\n",
    "print(\"Reporte de clasificación:\\n\", classification_report(prestamostrain_labels, y_pred_svc))"
   ]
  },
  {
   "cell_type": "markdown",
   "id": "c4c1643c",
   "metadata": {},
   "source": [
    "## Random Forest"
   ]
  },
  {
   "cell_type": "code",
   "execution_count": 206,
   "id": "c3d26db0-5a27-4513-8a92-5e663dbc7cdb",
   "metadata": {},
   "outputs": [],
   "source": [
    "from sklearn.ensemble import RandomForestClassifier\n",
    " \n",
    "forest_clf = make_pipeline(\n",
    "    preprocessing,\n",
    "    RandomForestClassifier(random_state=42)\n",
    ")"
   ]
  },
  {
   "cell_type": "code",
   "execution_count": 207,
   "id": "245e49a9-3c89-435b-9ebf-43e601558f78",
   "metadata": {},
   "outputs": [],
   "source": [
    "\n",
    "y_pred_forest = cross_val_predict(forest_clf, prestamostrain, prestamostrain_labels, cv=10)"
   ]
  },
  {
   "cell_type": "code",
   "execution_count": 208,
   "id": "5a180f2c-42b4-4b30-afc5-f6e0b0baef3c",
   "metadata": {},
   "outputs": [
    {
     "data": {
      "text/plain": [
       "array([1, 0, 1, 0, 1, 1, 1, 1, 0, 1, 0, 1, 1, 1, 1, 1, 0, 1, 1, 1, 1, 1,\n",
       "       1, 1, 1, 1, 0, 1, 1, 1, 1, 1, 1, 1, 1, 1, 1, 1, 1, 1, 1, 1, 1, 1,\n",
       "       0, 1, 1, 0, 0, 1, 1, 1, 1, 1, 1, 1, 1, 1, 1, 1, 1, 1, 1, 1, 0, 0,\n",
       "       1, 1, 1, 1, 1, 1, 0, 0, 1, 1, 0, 1, 1, 1, 0, 1, 1, 1, 1, 1, 1, 1,\n",
       "       1, 0, 1, 1, 1, 1, 1, 1, 1, 1, 1, 1, 1, 1, 1, 1, 0, 1, 1, 1, 1, 1,\n",
       "       1, 0, 1, 1, 1, 1, 1, 0, 1, 1, 1, 1, 1, 0, 1, 1, 1, 1, 0, 1, 0, 1,\n",
       "       1, 1, 1, 0, 1, 1, 1, 0, 1, 1, 1, 1, 1, 1, 1, 0, 0, 1, 1, 0, 1, 1,\n",
       "       1, 1, 1, 1, 1, 0, 1, 0, 1, 1, 1, 1, 1, 0, 1, 1, 1, 0, 1, 1, 0, 1,\n",
       "       1, 1, 1, 1, 1, 0, 1, 1, 0, 1, 0, 1, 1, 1, 0, 1, 1, 1, 1, 1, 0, 0,\n",
       "       0, 1, 1, 0, 1, 1, 1, 1, 1, 0, 1, 1, 1, 1, 1, 1, 1, 1, 1, 1, 0, 1,\n",
       "       1, 1, 0, 0, 1, 1, 1, 0, 0, 1, 0, 1, 1, 1, 1, 1, 1, 1, 1, 1, 1, 0,\n",
       "       1, 1, 1, 1, 1, 1, 1, 0, 1, 1, 0, 1, 1, 1, 1, 1, 1, 1, 1, 1, 1, 1,\n",
       "       1, 1, 0, 1, 0, 0, 1, 0, 1, 1, 1, 1, 1, 1, 1, 1, 1, 1, 1, 1, 0, 0,\n",
       "       1, 1, 1, 1, 1, 1, 1, 0, 1, 1, 1, 1, 1, 1, 1, 1, 1, 1], dtype=int64)"
      ]
     },
     "execution_count": 208,
     "metadata": {},
     "output_type": "execute_result"
    }
   ],
   "source": [
    "y_pred_forest"
   ]
  },
  {
   "cell_type": "code",
   "execution_count": 209,
   "id": "d63dfb0b-9452-48e8-bbb6-35d5caaef152",
   "metadata": {},
   "outputs": [],
   "source": [
    "# Random Forest no tiene decision_function, pero si genera la probabilidad de pertenecer a cada clase. \n",
    "y_probas_forest = cross_val_predict(forest_clf, prestamostrain, prestamostrain_labels, cv=3,\n",
    "                                    method=\"predict_proba\")"
   ]
  },
  {
   "cell_type": "code",
   "execution_count": 210,
   "id": "acb29571-b665-492b-b339-dbb12c64208d",
   "metadata": {},
   "outputs": [
    {
     "data": {
      "text/plain": [
       "array([[0.13, 0.87],\n",
       "       [0.34, 0.66],\n",
       "       [0.2 , 0.8 ],\n",
       "       [0.58, 0.42],\n",
       "       [0.35, 0.65],\n",
       "       [0.07, 0.93],\n",
       "       [0.11, 0.89],\n",
       "       [0.22, 0.78],\n",
       "       [0.75, 0.25],\n",
       "       [0.09, 0.91]])"
      ]
     },
     "execution_count": 210,
     "metadata": {},
     "output_type": "execute_result"
    }
   ],
   "source": [
    "y_probas_forest[:10]"
   ]
  },
  {
   "cell_type": "code",
   "execution_count": 211,
   "id": "b5224b3b-dfa3-4f19-95c9-57f19d9d6a17",
   "metadata": {},
   "outputs": [],
   "source": [
    "y_scores_forest = y_probas_forest[:, 1]"
   ]
  },
  {
   "cell_type": "code",
   "execution_count": 212,
   "id": "a3deec5e-d366-450d-9b34-bd63da12c766",
   "metadata": {},
   "outputs": [
    {
     "data": {
      "text/plain": [
       "array([0.87, 0.66, 0.8 , 0.42, 0.65, 0.93, 0.89, 0.78, 0.25, 0.91])"
      ]
     },
     "execution_count": 212,
     "metadata": {},
     "output_type": "execute_result"
    }
   ],
   "source": [
    "y_scores_forest[:10]"
   ]
  },
  {
   "cell_type": "code",
   "execution_count": 213,
   "id": "421dd518-6c07-42da-b6d2-172ae73ef9a3",
   "metadata": {},
   "outputs": [],
   "source": [
    "from sklearn.metrics import precision_score, recall_score, accuracy_score\n",
    "forest_presicion = precision_score(prestamostrain_labels,y_pred_forest, average='macro')"
   ]
  },
  {
   "cell_type": "code",
   "execution_count": 214,
   "id": "6087e153-e272-4647-aedc-586d887ae90a",
   "metadata": {},
   "outputs": [
    {
     "data": {
      "text/plain": [
       "0.7908232118758434"
      ]
     },
     "execution_count": 214,
     "metadata": {},
     "output_type": "execute_result"
    }
   ],
   "source": [
    "forest_presicion"
   ]
  },
  {
   "cell_type": "code",
   "execution_count": 215,
   "id": "c8e4dea1-32d5-4086-9ead-d55c63eee6fe",
   "metadata": {},
   "outputs": [
    {
     "name": "stdout",
     "output_type": "stream",
     "text": [
      "Precisión: 0.7908232118758434\n",
      "Recall: 0.7112418098333592\n",
      "Accuracy: 0.8026315789473685\n"
     ]
    }
   ],
   "source": [
    "from sklearn.metrics import precision_score, recall_score, accuracy_score\n",
    "\n",
    "# Calcular métricas\n",
    "precision = precision_score(prestamostrain_labels, y_pred_forest, average='macro')\n",
    "recall = recall_score(prestamostrain_labels, y_pred_forest, average='macro')\n",
    "accuracy = accuracy_score(prestamostrain_labels, y_pred_forest)\n",
    "\n",
    "print(f\"Precisión: {precision}\")\n",
    "print(f\"Recall: {recall}\")\n",
    "print(f\"Accuracy: {accuracy}\")"
   ]
  },
  {
   "cell_type": "code",
   "execution_count": 216,
   "id": "fdc4d49e-85c2-4dbb-aea5-1ca68a87cba4",
   "metadata": {},
   "outputs": [
    {
     "name": "stdout",
     "output_type": "stream",
     "text": [
      "Precisión en test: 0.8700980392156863\n"
     ]
    }
   ],
   "source": [
    "# Entrenar en todo el conjunto de entrenamiento\n",
    "forest_clf.fit(prestamostrain, prestamostrain_labels)\n",
    "\n",
    "# Predecir en el conjunto de prueba\n",
    "prestamostest = strat_test_set.drop(\"Loan_Status\", axis=1)\n",
    "prestamostest_labels = strat_test_set[\"Loan_Status\"].copy()\n",
    "\n",
    "y_pred_test = forest_clf.predict(prestamostest)\n",
    "\n",
    "# Evaluar en el conjunto de prueba\n",
    "test_precision = precision_score(prestamostest_labels, y_pred_test, average='macro')\n",
    "print(f\"Precisión en test: {test_precision}\")"
   ]
  },
  {
   "cell_type": "code",
   "execution_count": 217,
   "id": "133c7d1d-ac32-4f40-8e56-53ef1833f8dc",
   "metadata": {},
   "outputs": [
    {
     "name": "stdout",
     "output_type": "stream",
     "text": [
      "Accuracy: 0.8026315789473685\n",
      "Matriz de confusión:\n",
      " [[ 44  47]\n",
      " [ 13 200]]\n",
      "Reporte de clasificación:\n",
      "               precision    recall  f1-score   support\n",
      "\n",
      "           0       0.77      0.48      0.59        91\n",
      "           1       0.81      0.94      0.87       213\n",
      "\n",
      "    accuracy                           0.80       304\n",
      "   macro avg       0.79      0.71      0.73       304\n",
      "weighted avg       0.80      0.80      0.79       304\n",
      "\n"
     ]
    }
   ],
   "source": [
    "print(\"Accuracy:\", accuracy_score(prestamostrain_labels, y_pred_forest))\n",
    "print(\"Matriz de confusión:\\n\", confusion_matrix(prestamostrain_labels, y_pred_forest))\n",
    "print(\"Reporte de clasificación:\\n\", classification_report(prestamostrain_labels, y_pred_forest))"
   ]
  },
  {
   "cell_type": "markdown",
   "id": "f58b8102-c581-4549-a0b7-e9e397686494",
   "metadata": {},
   "source": [
    "## LogisticRegression"
   ]
  },
  {
   "cell_type": "code",
   "execution_count": 219,
   "id": "b36a689a-471c-4799-9dbc-ee447009f8bf",
   "metadata": {},
   "outputs": [
    {
     "name": "stdout",
     "output_type": "stream",
     "text": [
      "Predicciones de clase: [1 1 1 0 1]\n",
      "Probabilidades: [0.84629775 0.88671648 0.77264274 0.36924127 0.70468676]\n"
     ]
    }
   ],
   "source": [
    "from sklearn.linear_model import LogisticRegression\n",
    "from sklearn.pipeline import make_pipeline\n",
    "from sklearn.linear_model import LogisticRegression\n",
    "\n",
    "# Usar regresión logística en lugar de lineal\n",
    "log_reg = make_pipeline(preprocessing, LogisticRegression(max_iter=2000))\n",
    "\n",
    "\n",
    "# Predicciones de clase\n",
    "y_pred = cross_val_predict(log_reg, prestamostrain, prestamostrain_labels, cv=3)\n",
    "print(\"Predicciones de clase:\", y_pred[:5])\n",
    "\n",
    "# Predicciones de probabilidad\n",
    "y_proba = cross_val_predict(log_reg, prestamostrain, prestamostrain_labels, cv=3, method='predict_proba')[:, 1]\n",
    "print(\"Probabilidades:\", y_proba[:5])"
   ]
  },
  {
   "cell_type": "code",
   "execution_count": 220,
   "id": "d781c7d9-83db-4171-be0b-fea94370155a",
   "metadata": {},
   "outputs": [
    {
     "name": "stdout",
     "output_type": "stream",
     "text": [
      "Accuracy: 0.8256578947368421\n",
      "Matriz de confusión:\n",
      " [[ 48  43]\n",
      " [ 10 203]]\n",
      "Reporte de clasificación:\n",
      "               precision    recall  f1-score   support\n",
      "\n",
      "           0       0.83      0.53      0.64        91\n",
      "           1       0.83      0.95      0.88       213\n",
      "\n",
      "    accuracy                           0.83       304\n",
      "   macro avg       0.83      0.74      0.76       304\n",
      "weighted avg       0.83      0.83      0.81       304\n",
      "\n"
     ]
    }
   ],
   "source": [
    "from sklearn.metrics import accuracy_score, confusion_matrix, classification_report\n",
    "\n",
    "print(\"Accuracy:\", accuracy_score(prestamostrain_labels, y_pred))\n",
    "print(\"Matriz de confusión:\\n\", confusion_matrix(prestamostrain_labels, y_pred))\n",
    "print(\"Reporte de clasificación:\\n\", classification_report(prestamostrain_labels, y_pred))"
   ]
  },
  {
   "cell_type": "code",
   "execution_count": 221,
   "id": "41ba3815-b023-4558-927d-97662a3204cb",
   "metadata": {},
   "outputs": [
    {
     "name": "stdout",
     "output_type": "stream",
     "text": [
      "Loan_Status          1.000000\n",
      "Credit_History       0.581380\n",
      "LoanAmount           0.017546\n",
      "CoapplicantIncome    0.013778\n",
      "ApplicantIncome      0.012895\n",
      "Loan_Amount_Term    -0.073363\n",
      "Name: Loan_Status, dtype: float64\n"
     ]
    }
   ],
   "source": [
    "df = prestamostrain.copy()\n",
    "df[\"Loan_Status\"] = prestamostrain_labels\n",
    "\n",
    "correlaciones = df.corr(numeric_only=True)[\"Loan_Status\"].sort_values(ascending=False)\n",
    "print(correlaciones)"
   ]
  },
  {
   "cell_type": "markdown",
   "id": "55318e04-27fd-450c-87f9-d4978f92b7af",
   "metadata": {},
   "source": [
    "## Afinamiento de datos"
   ]
  },
  {
   "cell_type": "markdown",
   "id": "981c0955-a835-4f73-97a3-9abd3e347a68",
   "metadata": {},
   "source": [
    "## GridSearchCV"
   ]
  },
  {
   "cell_type": "code",
   "execution_count": 222,
   "id": "a7eb2868-8254-4c93-9fcc-cbe7d24fadf4",
   "metadata": {},
   "outputs": [],
   "source": [
    "from sklearn.model_selection import GridSearchCV"
   ]
  },
  {
   "cell_type": "code",
   "execution_count": 223,
   "id": "eaa3f5fa-3bb9-4621-aebc-ca3c30fdfc73",
   "metadata": {},
   "outputs": [],
   "source": [
    "param_grid = {\n",
    "    \"randomforestclassifier__n_estimators\": [200, 300],\n",
    "    \"randomforestclassifier__max_depth\": [5, 10, 15],  \n",
    "    \"randomforestclassifier__max_features\": [\"sqrt\", \"log2\"],  \n",
    "    \"randomforestclassifier__min_samples_split\": [5, 10], \n",
    "    \"randomforestclassifier__min_samples_leaf\": [2, 4],  \n",
    "    \"randomforestclassifier__class_weight\": [\"balanced\"] \n",
    "}\n",
    "\n",
    "grid_search = GridSearchCV(forest_clf, param_grid, cv=15)"
   ]
  },
  {
   "cell_type": "code",
   "execution_count": 177,
   "id": "1587b575-cffb-48bd-91b2-45b1a54058d8",
   "metadata": {},
   "outputs": [
    {
     "data": {
      "text/plain": [
       "1.9046583294868469"
      ]
     },
     "execution_count": 177,
     "metadata": {},
     "output_type": "execute_result"
    }
   ],
   "source": [
    "import time\n",
    " \n",
    "inicio = time.time()\n",
    "grid_search.fit(prestamostrain,  prestamostrain_labels) \n",
    "fin = time.time()\n",
    "(fin - inicio) / 60  \n"
   ]
  },
  {
   "cell_type": "code",
   "execution_count": 178,
   "id": "2202365f-6f4e-4207-8ea6-2745714a58a0",
   "metadata": {},
   "outputs": [],
   "source": [
    "cv_res = pd.DataFrame(grid_search.cv_results_)"
   ]
  },
  {
   "cell_type": "code",
   "execution_count": 179,
   "id": "987871cd-5348-40d8-bf23-fd853f54cad0",
   "metadata": {},
   "outputs": [
    {
     "data": {
      "text/html": [
       "<div>\n",
       "<style scoped>\n",
       "    .dataframe tbody tr th:only-of-type {\n",
       "        vertical-align: middle;\n",
       "    }\n",
       "\n",
       "    .dataframe tbody tr th {\n",
       "        vertical-align: top;\n",
       "    }\n",
       "\n",
       "    .dataframe thead th {\n",
       "        text-align: right;\n",
       "    }\n",
       "</style>\n",
       "<table border=\"1\" class=\"dataframe\">\n",
       "  <thead>\n",
       "    <tr style=\"text-align: right;\">\n",
       "      <th></th>\n",
       "      <th>mean_fit_time</th>\n",
       "      <th>std_fit_time</th>\n",
       "      <th>mean_score_time</th>\n",
       "      <th>std_score_time</th>\n",
       "      <th>param_randomforestclassifier__class_weight</th>\n",
       "      <th>param_randomforestclassifier__max_depth</th>\n",
       "      <th>param_randomforestclassifier__max_features</th>\n",
       "      <th>param_randomforestclassifier__min_samples_leaf</th>\n",
       "      <th>param_randomforestclassifier__min_samples_split</th>\n",
       "      <th>param_randomforestclassifier__n_estimators</th>\n",
       "      <th>...</th>\n",
       "      <th>split8_test_score</th>\n",
       "      <th>split9_test_score</th>\n",
       "      <th>split10_test_score</th>\n",
       "      <th>split11_test_score</th>\n",
       "      <th>split12_test_score</th>\n",
       "      <th>split13_test_score</th>\n",
       "      <th>split14_test_score</th>\n",
       "      <th>mean_test_score</th>\n",
       "      <th>std_test_score</th>\n",
       "      <th>rank_test_score</th>\n",
       "    </tr>\n",
       "  </thead>\n",
       "  <tbody>\n",
       "    <tr>\n",
       "      <th>0</th>\n",
       "      <td>0.120921</td>\n",
       "      <td>0.001784</td>\n",
       "      <td>0.009234</td>\n",
       "      <td>0.000410</td>\n",
       "      <td>balanced</td>\n",
       "      <td>5</td>\n",
       "      <td>sqrt</td>\n",
       "      <td>2</td>\n",
       "      <td>5</td>\n",
       "      <td>200</td>\n",
       "      <td>...</td>\n",
       "      <td>0.8</td>\n",
       "      <td>0.85</td>\n",
       "      <td>0.80</td>\n",
       "      <td>0.9</td>\n",
       "      <td>0.80</td>\n",
       "      <td>0.80</td>\n",
       "      <td>0.9</td>\n",
       "      <td>0.800476</td>\n",
       "      <td>0.073675</td>\n",
       "      <td>11</td>\n",
       "    </tr>\n",
       "    <tr>\n",
       "      <th>1</th>\n",
       "      <td>0.169127</td>\n",
       "      <td>0.002050</td>\n",
       "      <td>0.010588</td>\n",
       "      <td>0.000453</td>\n",
       "      <td>balanced</td>\n",
       "      <td>5</td>\n",
       "      <td>sqrt</td>\n",
       "      <td>2</td>\n",
       "      <td>5</td>\n",
       "      <td>300</td>\n",
       "      <td>...</td>\n",
       "      <td>0.8</td>\n",
       "      <td>0.85</td>\n",
       "      <td>0.80</td>\n",
       "      <td>0.9</td>\n",
       "      <td>0.80</td>\n",
       "      <td>0.80</td>\n",
       "      <td>0.9</td>\n",
       "      <td>0.794127</td>\n",
       "      <td>0.084183</td>\n",
       "      <td>25</td>\n",
       "    </tr>\n",
       "    <tr>\n",
       "      <th>2</th>\n",
       "      <td>0.119281</td>\n",
       "      <td>0.001198</td>\n",
       "      <td>0.009243</td>\n",
       "      <td>0.000592</td>\n",
       "      <td>balanced</td>\n",
       "      <td>5</td>\n",
       "      <td>sqrt</td>\n",
       "      <td>2</td>\n",
       "      <td>10</td>\n",
       "      <td>200</td>\n",
       "      <td>...</td>\n",
       "      <td>0.8</td>\n",
       "      <td>0.85</td>\n",
       "      <td>0.75</td>\n",
       "      <td>0.9</td>\n",
       "      <td>0.85</td>\n",
       "      <td>0.80</td>\n",
       "      <td>0.9</td>\n",
       "      <td>0.803651</td>\n",
       "      <td>0.071083</td>\n",
       "      <td>7</td>\n",
       "    </tr>\n",
       "    <tr>\n",
       "      <th>3</th>\n",
       "      <td>0.168278</td>\n",
       "      <td>0.001498</td>\n",
       "      <td>0.010323</td>\n",
       "      <td>0.000502</td>\n",
       "      <td>balanced</td>\n",
       "      <td>5</td>\n",
       "      <td>sqrt</td>\n",
       "      <td>2</td>\n",
       "      <td>10</td>\n",
       "      <td>300</td>\n",
       "      <td>...</td>\n",
       "      <td>0.8</td>\n",
       "      <td>0.85</td>\n",
       "      <td>0.85</td>\n",
       "      <td>0.9</td>\n",
       "      <td>0.80</td>\n",
       "      <td>0.80</td>\n",
       "      <td>0.9</td>\n",
       "      <td>0.803968</td>\n",
       "      <td>0.084124</td>\n",
       "      <td>5</td>\n",
       "    </tr>\n",
       "    <tr>\n",
       "      <th>4</th>\n",
       "      <td>0.119766</td>\n",
       "      <td>0.002010</td>\n",
       "      <td>0.009188</td>\n",
       "      <td>0.000630</td>\n",
       "      <td>balanced</td>\n",
       "      <td>5</td>\n",
       "      <td>sqrt</td>\n",
       "      <td>4</td>\n",
       "      <td>5</td>\n",
       "      <td>200</td>\n",
       "      <td>...</td>\n",
       "      <td>0.8</td>\n",
       "      <td>0.85</td>\n",
       "      <td>0.80</td>\n",
       "      <td>0.9</td>\n",
       "      <td>0.80</td>\n",
       "      <td>0.75</td>\n",
       "      <td>0.9</td>\n",
       "      <td>0.793651</td>\n",
       "      <td>0.067044</td>\n",
       "      <td>31</td>\n",
       "    </tr>\n",
       "  </tbody>\n",
       "</table>\n",
       "<p>5 rows × 29 columns</p>\n",
       "</div>"
      ],
      "text/plain": [
       "   mean_fit_time  std_fit_time  mean_score_time  std_score_time  \\\n",
       "0       0.120921      0.001784         0.009234        0.000410   \n",
       "1       0.169127      0.002050         0.010588        0.000453   \n",
       "2       0.119281      0.001198         0.009243        0.000592   \n",
       "3       0.168278      0.001498         0.010323        0.000502   \n",
       "4       0.119766      0.002010         0.009188        0.000630   \n",
       "\n",
       "  param_randomforestclassifier__class_weight  \\\n",
       "0                                   balanced   \n",
       "1                                   balanced   \n",
       "2                                   balanced   \n",
       "3                                   balanced   \n",
       "4                                   balanced   \n",
       "\n",
       "   param_randomforestclassifier__max_depth  \\\n",
       "0                                        5   \n",
       "1                                        5   \n",
       "2                                        5   \n",
       "3                                        5   \n",
       "4                                        5   \n",
       "\n",
       "  param_randomforestclassifier__max_features  \\\n",
       "0                                       sqrt   \n",
       "1                                       sqrt   \n",
       "2                                       sqrt   \n",
       "3                                       sqrt   \n",
       "4                                       sqrt   \n",
       "\n",
       "   param_randomforestclassifier__min_samples_leaf  \\\n",
       "0                                               2   \n",
       "1                                               2   \n",
       "2                                               2   \n",
       "3                                               2   \n",
       "4                                               4   \n",
       "\n",
       "   param_randomforestclassifier__min_samples_split  \\\n",
       "0                                                5   \n",
       "1                                                5   \n",
       "2                                               10   \n",
       "3                                               10   \n",
       "4                                                5   \n",
       "\n",
       "   param_randomforestclassifier__n_estimators  ... split8_test_score  \\\n",
       "0                                         200  ...               0.8   \n",
       "1                                         300  ...               0.8   \n",
       "2                                         200  ...               0.8   \n",
       "3                                         300  ...               0.8   \n",
       "4                                         200  ...               0.8   \n",
       "\n",
       "   split9_test_score  split10_test_score  split11_test_score  \\\n",
       "0               0.85                0.80                 0.9   \n",
       "1               0.85                0.80                 0.9   \n",
       "2               0.85                0.75                 0.9   \n",
       "3               0.85                0.85                 0.9   \n",
       "4               0.85                0.80                 0.9   \n",
       "\n",
       "   split12_test_score  split13_test_score  split14_test_score  \\\n",
       "0                0.80                0.80                 0.9   \n",
       "1                0.80                0.80                 0.9   \n",
       "2                0.85                0.80                 0.9   \n",
       "3                0.80                0.80                 0.9   \n",
       "4                0.80                0.75                 0.9   \n",
       "\n",
       "   mean_test_score  std_test_score  rank_test_score  \n",
       "0         0.800476        0.073675               11  \n",
       "1         0.794127        0.084183               25  \n",
       "2         0.803651        0.071083                7  \n",
       "3         0.803968        0.084124                5  \n",
       "4         0.793651        0.067044               31  \n",
       "\n",
       "[5 rows x 29 columns]"
      ]
     },
     "execution_count": 179,
     "metadata": {},
     "output_type": "execute_result"
    }
   ],
   "source": [
    "cv_res[:5]"
   ]
  },
  {
   "cell_type": "code",
   "execution_count": 180,
   "id": "740db60f-1244-4c4c-addc-79d8686a075f",
   "metadata": {},
   "outputs": [
    {
     "name": "stdout",
     "output_type": "stream",
     "text": [
      "{'randomforestclassifier__class_weight': 'balanced', 'randomforestclassifier__max_depth': 15, 'randomforestclassifier__max_features': 'sqrt', 'randomforestclassifier__min_samples_leaf': 2, 'randomforestclassifier__min_samples_split': 5, 'randomforestclassifier__n_estimators': 200}\n",
      "0.8073015873015873\n"
     ]
    }
   ],
   "source": [
    "#mejores parametros\n",
    "print(grid_search.best_params_)\n",
    "print(grid_search.best_score_)"
   ]
  },
  {
   "cell_type": "markdown",
   "id": "f80f04b1-d99f-403a-be29-e4c61392f7e8",
   "metadata": {},
   "source": [
    "## Ramdomize"
   ]
  },
  {
   "cell_type": "code",
   "execution_count": 181,
   "id": "ea9740f5-8cbc-47bf-872a-1c2cfd03adfd",
   "metadata": {},
   "outputs": [],
   "source": [
    "from sklearn.model_selection import RandomizedSearchCV"
   ]
  },
  {
   "cell_type": "code",
   "execution_count": 182,
   "id": "3f2a8ff8-8d75-4255-a59a-83d47aaf65c7",
   "metadata": {},
   "outputs": [],
   "source": [
    "param_dist = {\n",
    "    \"randomforestclassifier__n_estimators\": [300, 500, 800],       \n",
    "    \"randomforestclassifier__max_depth\": [10, 20, None],           \n",
    "    \"randomforestclassifier__max_features\": [\"sqrt\", \"log2\", None],\n",
    "    \"randomforestclassifier__min_samples_split\": [2, 5, 10],       \n",
    "    \"randomforestclassifier__min_samples_leaf\": [1, 2, 4],         \n",
    "    \"randomforestclassifier__class_weight\": [\"balanced\"]           \n",
    "}\n"
   ]
  },
  {
   "cell_type": "code",
   "execution_count": 183,
   "id": "4b5d684a-e02d-4ee1-842b-f44aef3f0e7e",
   "metadata": {},
   "outputs": [],
   "source": [
    "random_search = RandomizedSearchCV(\n",
    "    estimator=forest_clf,            \n",
    "    param_distributions=param_dist,  \n",
    "    n_iter=10,                        \n",
    "    cv=15,                            \n",
    "    scoring=\"f1_macro\",               \n",
    "    verbose=2,                       \n",
    "    random_state=42,\n",
    "    n_jobs=-1                         \n",
    ")"
   ]
  },
  {
   "cell_type": "code",
   "execution_count": 184,
   "id": "beabefe9-3ad7-43c6-a16c-b4b25511d4e8",
   "metadata": {},
   "outputs": [
    {
     "name": "stdout",
     "output_type": "stream",
     "text": [
      "Fitting 15 folds for each of 10 candidates, totalling 150 fits\n"
     ]
    },
    {
     "data": {
      "text/plain": [
       "0.09196132818857829"
      ]
     },
     "execution_count": 184,
     "metadata": {},
     "output_type": "execute_result"
    }
   ],
   "source": [
    "import time\n",
    " \n",
    "inicio = time.time()\n",
    "random_search.fit(prestamostrain,  prestamostrain_labels) \n",
    "fin = time.time()\n",
    "(fin - inicio) / 60 "
   ]
  },
  {
   "cell_type": "code",
   "execution_count": 185,
   "id": "a04425f4-c5c9-4fde-a4b6-1c956c1f71f0",
   "metadata": {},
   "outputs": [
    {
     "name": "stdout",
     "output_type": "stream",
     "text": [
      "{'randomforestclassifier__n_estimators': 300, 'randomforestclassifier__min_samples_split': 10, 'randomforestclassifier__min_samples_leaf': 1, 'randomforestclassifier__max_features': 'sqrt', 'randomforestclassifier__max_depth': 10, 'randomforestclassifier__class_weight': 'balanced'}\n"
     ]
    }
   ],
   "source": [
    "print(random_search.best_params_)"
   ]
  },
  {
   "cell_type": "code",
   "execution_count": 186,
   "id": "1ea46454-5dc2-4bfa-82f0-4cc3a7c775ce",
   "metadata": {},
   "outputs": [
    {
     "name": "stdout",
     "output_type": "stream",
     "text": [
      "0.7247864008751107\n"
     ]
    }
   ],
   "source": [
    "print(random_search.best_score_)"
   ]
  },
  {
   "cell_type": "markdown",
   "id": "8bca8b36",
   "metadata": {},
   "source": [
    "# Evaluar el modelo con el \"test set\""
   ]
  },
  {
   "cell_type": "markdown",
   "id": "58dc9132-abd8-4146-a2c1-2f36ec299731",
   "metadata": {},
   "source": [
    "## estamos probando diferentes formas"
   ]
  },
  {
   "cell_type": "code",
   "execution_count": 187,
   "id": "176706ea",
   "metadata": {},
   "outputs": [],
   "source": [
    "final_model = random_search.best_estimator_"
   ]
  },
  {
   "cell_type": "code",
   "execution_count": 188,
   "id": "612a59ae",
   "metadata": {},
   "outputs": [
    {
     "data": {
      "text/plain": [
       "sklearn.pipeline.Pipeline"
      ]
     },
     "execution_count": 188,
     "metadata": {},
     "output_type": "execute_result"
    }
   ],
   "source": [
    "type(final_model)"
   ]
  },
  {
   "cell_type": "code",
   "execution_count": 224,
   "id": "516cb216",
   "metadata": {},
   "outputs": [
    {
     "ename": "ValueError",
     "evalue": "could not convert string to float: 'Y'",
     "output_type": "error",
     "traceback": [
      "\u001b[1;31m---------------------------------------------------------------------------\u001b[0m",
      "\u001b[1;31mValueError\u001b[0m                                Traceback (most recent call last)",
      "Cell \u001b[1;32mIn[224], line 17\u001b[0m\n\u001b[0;32m     12\u001b[0m final_predictions \u001b[38;5;241m=\u001b[39m final_model\u001b[38;5;241m.\u001b[39mpredict(X_test)\n\u001b[0;32m     16\u001b[0m \u001b[38;5;66;03m# Cálculo del RMSE\u001b[39;00m\n\u001b[1;32m---> 17\u001b[0m final_rmse \u001b[38;5;241m=\u001b[39m np\u001b[38;5;241m.\u001b[39msqrt(mean_squared_error(y_test, final_predictions))\n\u001b[0;32m     18\u001b[0m \u001b[38;5;28mprint\u001b[39m(\u001b[38;5;124m\"\u001b[39m\u001b[38;5;124mFinal RMSE:\u001b[39m\u001b[38;5;124m\"\u001b[39m, final_rmse)\n\u001b[0;32m     21\u001b[0m squared_errors \u001b[38;5;241m=\u001b[39m (final_predictions \u001b[38;5;241m-\u001b[39m y_test) \u001b[38;5;241m*\u001b[39m\u001b[38;5;241m*\u001b[39m \u001b[38;5;241m2\u001b[39m\n",
      "File \u001b[1;32m~\\anaconda3\\Lib\\site-packages\\sklearn\\utils\\_param_validation.py:218\u001b[0m, in \u001b[0;36mvalidate_params.<locals>.decorator.<locals>.wrapper\u001b[1;34m(*args, **kwargs)\u001b[0m\n\u001b[0;32m    212\u001b[0m \u001b[38;5;28;01mtry\u001b[39;00m:\n\u001b[0;32m    213\u001b[0m     \u001b[38;5;28;01mwith\u001b[39;00m config_context(\n\u001b[0;32m    214\u001b[0m         skip_parameter_validation\u001b[38;5;241m=\u001b[39m(\n\u001b[0;32m    215\u001b[0m             prefer_skip_nested_validation \u001b[38;5;129;01mor\u001b[39;00m global_skip_validation\n\u001b[0;32m    216\u001b[0m         )\n\u001b[0;32m    217\u001b[0m     ):\n\u001b[1;32m--> 218\u001b[0m         \u001b[38;5;28;01mreturn\u001b[39;00m func(\u001b[38;5;241m*\u001b[39margs, \u001b[38;5;241m*\u001b[39m\u001b[38;5;241m*\u001b[39mkwargs)\n\u001b[0;32m    219\u001b[0m \u001b[38;5;28;01mexcept\u001b[39;00m InvalidParameterError \u001b[38;5;28;01mas\u001b[39;00m e:\n\u001b[0;32m    220\u001b[0m     \u001b[38;5;66;03m# When the function is just a wrapper around an estimator, we allow\u001b[39;00m\n\u001b[0;32m    221\u001b[0m     \u001b[38;5;66;03m# the function to delegate validation to the estimator, but we replace\u001b[39;00m\n\u001b[0;32m    222\u001b[0m     \u001b[38;5;66;03m# the name of the estimator by the name of the function in the error\u001b[39;00m\n\u001b[0;32m    223\u001b[0m     \u001b[38;5;66;03m# message to avoid confusion.\u001b[39;00m\n\u001b[0;32m    224\u001b[0m     msg \u001b[38;5;241m=\u001b[39m re\u001b[38;5;241m.\u001b[39msub(\n\u001b[0;32m    225\u001b[0m         \u001b[38;5;124mr\u001b[39m\u001b[38;5;124m\"\u001b[39m\u001b[38;5;124mparameter of \u001b[39m\u001b[38;5;124m\\\u001b[39m\u001b[38;5;124mw+ must be\u001b[39m\u001b[38;5;124m\"\u001b[39m,\n\u001b[0;32m    226\u001b[0m         \u001b[38;5;124mf\u001b[39m\u001b[38;5;124m\"\u001b[39m\u001b[38;5;124mparameter of \u001b[39m\u001b[38;5;132;01m{\u001b[39;00mfunc\u001b[38;5;241m.\u001b[39m\u001b[38;5;18m__qualname__\u001b[39m\u001b[38;5;132;01m}\u001b[39;00m\u001b[38;5;124m must be\u001b[39m\u001b[38;5;124m\"\u001b[39m,\n\u001b[0;32m    227\u001b[0m         \u001b[38;5;28mstr\u001b[39m(e),\n\u001b[0;32m    228\u001b[0m     )\n",
      "File \u001b[1;32m~\\anaconda3\\Lib\\site-packages\\sklearn\\metrics\\_regression.py:580\u001b[0m, in \u001b[0;36mmean_squared_error\u001b[1;34m(y_true, y_pred, sample_weight, multioutput)\u001b[0m\n\u001b[0;32m    530\u001b[0m \u001b[38;5;250m\u001b[39m\u001b[38;5;124;03m\"\"\"Mean squared error regression loss.\u001b[39;00m\n\u001b[0;32m    531\u001b[0m \n\u001b[0;32m    532\u001b[0m \u001b[38;5;124;03mRead more in the :ref:`User Guide <mean_squared_error>`.\u001b[39;00m\n\u001b[1;32m   (...)\u001b[0m\n\u001b[0;32m    576\u001b[0m \u001b[38;5;124;03m0.825...\u001b[39;00m\n\u001b[0;32m    577\u001b[0m \u001b[38;5;124;03m\"\"\"\u001b[39;00m\n\u001b[0;32m    578\u001b[0m xp, _ \u001b[38;5;241m=\u001b[39m get_namespace(y_true, y_pred, sample_weight, multioutput)\n\u001b[0;32m    579\u001b[0m _, y_true, y_pred, sample_weight, multioutput \u001b[38;5;241m=\u001b[39m (\n\u001b[1;32m--> 580\u001b[0m     _check_reg_targets_with_floating_dtype(\n\u001b[0;32m    581\u001b[0m         y_true, y_pred, sample_weight, multioutput, xp\u001b[38;5;241m=\u001b[39mxp\n\u001b[0;32m    582\u001b[0m     )\n\u001b[0;32m    583\u001b[0m )\n\u001b[0;32m    584\u001b[0m output_errors \u001b[38;5;241m=\u001b[39m _average((y_true \u001b[38;5;241m-\u001b[39m y_pred) \u001b[38;5;241m*\u001b[39m\u001b[38;5;241m*\u001b[39m \u001b[38;5;241m2\u001b[39m, axis\u001b[38;5;241m=\u001b[39m\u001b[38;5;241m0\u001b[39m, weights\u001b[38;5;241m=\u001b[39msample_weight)\n\u001b[0;32m    586\u001b[0m \u001b[38;5;28;01mif\u001b[39;00m \u001b[38;5;28misinstance\u001b[39m(multioutput, \u001b[38;5;28mstr\u001b[39m):\n",
      "File \u001b[1;32m~\\anaconda3\\Lib\\site-packages\\sklearn\\metrics\\_regression.py:209\u001b[0m, in \u001b[0;36m_check_reg_targets_with_floating_dtype\u001b[1;34m(y_true, y_pred, sample_weight, multioutput, xp)\u001b[0m\n\u001b[0;32m    160\u001b[0m \u001b[38;5;250m\u001b[39m\u001b[38;5;124;03m\"\"\"Ensures y_true, y_pred, and sample_weight correspond to same regression task.\u001b[39;00m\n\u001b[0;32m    161\u001b[0m \n\u001b[0;32m    162\u001b[0m \u001b[38;5;124;03mExtends `_check_reg_targets` by automatically selecting a suitable floating-point\u001b[39;00m\n\u001b[1;32m   (...)\u001b[0m\n\u001b[0;32m    205\u001b[0m \u001b[38;5;124;03m    correct keyword.\u001b[39;00m\n\u001b[0;32m    206\u001b[0m \u001b[38;5;124;03m\"\"\"\u001b[39;00m\n\u001b[0;32m    207\u001b[0m dtype_name \u001b[38;5;241m=\u001b[39m _find_matching_floating_dtype(y_true, y_pred, sample_weight, xp\u001b[38;5;241m=\u001b[39mxp)\n\u001b[1;32m--> 209\u001b[0m y_type, y_true, y_pred, sample_weight, multioutput \u001b[38;5;241m=\u001b[39m _check_reg_targets(\n\u001b[0;32m    210\u001b[0m     y_true, y_pred, sample_weight, multioutput, dtype\u001b[38;5;241m=\u001b[39mdtype_name, xp\u001b[38;5;241m=\u001b[39mxp\n\u001b[0;32m    211\u001b[0m )\n\u001b[0;32m    213\u001b[0m \u001b[38;5;28;01mreturn\u001b[39;00m y_type, y_true, y_pred, sample_weight, multioutput\n",
      "File \u001b[1;32m~\\anaconda3\\Lib\\site-packages\\sklearn\\metrics\\_regression.py:116\u001b[0m, in \u001b[0;36m_check_reg_targets\u001b[1;34m(y_true, y_pred, sample_weight, multioutput, dtype, xp)\u001b[0m\n\u001b[0;32m    114\u001b[0m check_consistent_length(y_true, y_pred, sample_weight)\n\u001b[0;32m    115\u001b[0m y_true \u001b[38;5;241m=\u001b[39m check_array(y_true, ensure_2d\u001b[38;5;241m=\u001b[39m\u001b[38;5;28;01mFalse\u001b[39;00m, dtype\u001b[38;5;241m=\u001b[39mdtype)\n\u001b[1;32m--> 116\u001b[0m y_pred \u001b[38;5;241m=\u001b[39m check_array(y_pred, ensure_2d\u001b[38;5;241m=\u001b[39m\u001b[38;5;28;01mFalse\u001b[39;00m, dtype\u001b[38;5;241m=\u001b[39mdtype)\n\u001b[0;32m    117\u001b[0m \u001b[38;5;28;01mif\u001b[39;00m sample_weight \u001b[38;5;129;01mis\u001b[39;00m \u001b[38;5;129;01mnot\u001b[39;00m \u001b[38;5;28;01mNone\u001b[39;00m:\n\u001b[0;32m    118\u001b[0m     sample_weight \u001b[38;5;241m=\u001b[39m _check_sample_weight(sample_weight, y_true, dtype\u001b[38;5;241m=\u001b[39mdtype)\n",
      "File \u001b[1;32m~\\anaconda3\\Lib\\site-packages\\sklearn\\utils\\validation.py:1053\u001b[0m, in \u001b[0;36mcheck_array\u001b[1;34m(array, accept_sparse, accept_large_sparse, dtype, order, copy, force_writeable, force_all_finite, ensure_all_finite, ensure_non_negative, ensure_2d, allow_nd, ensure_min_samples, ensure_min_features, estimator, input_name)\u001b[0m\n\u001b[0;32m   1051\u001b[0m         array \u001b[38;5;241m=\u001b[39m xp\u001b[38;5;241m.\u001b[39mastype(array, dtype, copy\u001b[38;5;241m=\u001b[39m\u001b[38;5;28;01mFalse\u001b[39;00m)\n\u001b[0;32m   1052\u001b[0m     \u001b[38;5;28;01melse\u001b[39;00m:\n\u001b[1;32m-> 1053\u001b[0m         array \u001b[38;5;241m=\u001b[39m _asarray_with_order(array, order\u001b[38;5;241m=\u001b[39morder, dtype\u001b[38;5;241m=\u001b[39mdtype, xp\u001b[38;5;241m=\u001b[39mxp)\n\u001b[0;32m   1054\u001b[0m \u001b[38;5;28;01mexcept\u001b[39;00m ComplexWarning \u001b[38;5;28;01mas\u001b[39;00m complex_warning:\n\u001b[0;32m   1055\u001b[0m     \u001b[38;5;28;01mraise\u001b[39;00m \u001b[38;5;167;01mValueError\u001b[39;00m(\n\u001b[0;32m   1056\u001b[0m         \u001b[38;5;124m\"\u001b[39m\u001b[38;5;124mComplex data not supported\u001b[39m\u001b[38;5;130;01m\\n\u001b[39;00m\u001b[38;5;132;01m{}\u001b[39;00m\u001b[38;5;130;01m\\n\u001b[39;00m\u001b[38;5;124m\"\u001b[39m\u001b[38;5;241m.\u001b[39mformat(array)\n\u001b[0;32m   1057\u001b[0m     ) \u001b[38;5;28;01mfrom\u001b[39;00m \u001b[38;5;21;01mcomplex_warning\u001b[39;00m\n",
      "File \u001b[1;32m~\\anaconda3\\Lib\\site-packages\\sklearn\\utils\\_array_api.py:757\u001b[0m, in \u001b[0;36m_asarray_with_order\u001b[1;34m(array, dtype, order, copy, xp, device)\u001b[0m\n\u001b[0;32m    755\u001b[0m     array \u001b[38;5;241m=\u001b[39m numpy\u001b[38;5;241m.\u001b[39marray(array, order\u001b[38;5;241m=\u001b[39morder, dtype\u001b[38;5;241m=\u001b[39mdtype)\n\u001b[0;32m    756\u001b[0m \u001b[38;5;28;01melse\u001b[39;00m:\n\u001b[1;32m--> 757\u001b[0m     array \u001b[38;5;241m=\u001b[39m numpy\u001b[38;5;241m.\u001b[39masarray(array, order\u001b[38;5;241m=\u001b[39morder, dtype\u001b[38;5;241m=\u001b[39mdtype)\n\u001b[0;32m    759\u001b[0m \u001b[38;5;66;03m# At this point array is a NumPy ndarray. We convert it to an array\u001b[39;00m\n\u001b[0;32m    760\u001b[0m \u001b[38;5;66;03m# container that is consistent with the input's namespace.\u001b[39;00m\n\u001b[0;32m    761\u001b[0m \u001b[38;5;28;01mreturn\u001b[39;00m xp\u001b[38;5;241m.\u001b[39masarray(array)\n",
      "\u001b[1;31mValueError\u001b[0m: could not convert string to float: 'Y'"
     ]
    }
   ],
   "source": [
    "#evaluar el modelo con el \"test set\"\n",
    "\n",
    "from sklearn.metrics import mean_squared_error\n",
    "from scipy import stats\n",
    "import numpy as np\n",
    "import pandas as pd\n",
    "\n",
    "X_test = strat_test_set.drop(\"Loan_Status\", axis=1)\n",
    "y_test = strat_test_set[\"Loan_Status\"]\n",
    "\n",
    "\n",
    "final_predictions = final_model.predict(X_test)\n",
    "\n",
    "\n",
    "\n",
    "# Cálculo del RMSE\n",
    "final_rmse = np.sqrt(mean_squared_error(y_test, final_predictions))\n",
    "print(\"Final RMSE:\", final_rmse)\n",
    "\n",
    "\n",
    "squared_errors = (final_predictions - y_test) ** 2\n",
    "\n",
    "# Evitar NaN\n",
    "sem = stats.sem(squared_errors)\n",
    "if np.isnan(sem):\n",
    "    interval = (final_rmse, final_rmse)\n",
    "else:\n",
    "    interval = np.sqrt(\n",
    "        stats.t.interval(\n",
    "            0.95,\n",
    "            len(squared_errors) - 1,\n",
    "            loc=squared_errors.mean(),\n",
    "            scale=sem\n",
    "        )\n",
    "    )\n",
    "\n",
    "print(\"Intervalo de confianza 95% del RMSE:\", interval)\n"
   ]
  },
  {
   "cell_type": "code",
   "execution_count": 103,
   "id": "fbfe7315-16e4-4e29-8232-39f31f9a55b4",
   "metadata": {},
   "outputs": [
    {
     "name": "stdout",
     "output_type": "stream",
     "text": [
      "Intervalo de confianza 95% del Log Loss (bootstrap): [0.3417, 0.4797]\n"
     ]
    }
   ],
   "source": [
    "from sklearn.utils import resample\n",
    "from sklearn.metrics import log_loss\n",
    "\n",
    "\n",
    "n_bootstraps = 1000\n",
    "logloss_bootstrap = []\n",
    "\n",
    "for _ in range(n_bootstraps):\n",
    "    # Crear muestra bootstrap\n",
    "    X_resampled, y_resampled = resample(X_test, y_test)\n",
    "    \n",
    "    # Obtener probabilidades de la clase positiva\n",
    "    probs_resampled = final_model.predict_proba(X_resampled)[:, 1]\n",
    "    \n",
    "    # Calcular log loss para la muestra bootstrap\n",
    "    logloss_resampled = log_loss(y_resampled, probs_resampled)\n",
    "    \n",
    "    # Guardar el resultado\n",
    "    logloss_bootstrap.append(logloss_resampled)\n",
    "\n",
    "# Calcular percentiles para intervalo de confianza 95%\n",
    "lower = np.percentile(logloss_bootstrap, 2.5)\n",
    "upper = np.percentile(logloss_bootstrap, 97.5)\n",
    "\n",
    "print(f\"Intervalo de confianza 95% del Log Loss (bootstrap): [{lower:.4f}, {upper:.4f}]\")"
   ]
  },
  {
   "cell_type": "markdown",
   "id": "f986a56d-6ce6-4e85-8a48-da1fe95b1cfb",
   "metadata": {},
   "source": [
    "### quizas hay que hacerlo diferente"
   ]
  },
  {
   "cell_type": "code",
   "execution_count": 104,
   "id": "2e0e6104-d2d0-4850-8bb2-9b9fc26eebbd",
   "metadata": {},
   "outputs": [
    {
     "name": "stdout",
     "output_type": "stream",
     "text": [
      " Resultados en Test Set:\n",
      "Accuracy     : 0.8961\n",
      "\n",
      "IC 95% del Log Loss (bootstrap): [0.3920, 0.5124]\n"
     ]
    }
   ],
   "source": [
    "from sklearn.metrics import accuracy_score, log_loss\n",
    "from sklearn.utils import resample\n",
    "import numpy as np\n",
    "\n",
    "\n",
    "final_model = grid_search.best_estimator_\n",
    "\n",
    "\n",
    "X_test = strat_test_set.drop(\"Loan_Status\", axis=1)\n",
    "y_test = strat_test_set[\"Loan_Status\"]\n",
    "\n",
    "\n",
    "final_predictions = final_model.predict(X_test)\n",
    "final_proba = final_model.predict_proba(X_test)[:, 1]\n",
    "\n",
    "\n",
    "accuracy = accuracy_score(y_test, final_predictions)\n",
    "print(\" Resultados en Test Set:\")\n",
    "print(f\"Accuracy     : {accuracy:.4f}\")\n",
    "\n",
    "\n",
    "n_bootstraps = 1000\n",
    "logloss_bootstrap = []\n",
    "\n",
    "for _ in range(n_bootstraps):\n",
    "    X_resampled, y_resampled = resample(X_test, y_test)\n",
    "    \n",
    "    probs_resampled = final_model.predict_proba(X_resampled)[:, 1]\n",
    "    \n",
    "    logloss_resampled = log_loss(y_resampled, probs_resampled)\n",
    "    logloss_bootstrap.append(logloss_resampled)\n",
    "\n",
    "lower = np.percentile(logloss_bootstrap, 2.5)\n",
    "upper = np.percentile(logloss_bootstrap, 97.5)\n",
    "\n",
    "print(f\"\\nIC 95% del Log Loss (bootstrap): [{lower:.4f}, {upper:.4f}]\")\n",
    "\n",
    "\n"
   ]
  },
  {
   "cell_type": "code",
   "execution_count": null,
   "id": "898054d6-4fba-4e93-9a4b-13c493bed5ca",
   "metadata": {},
   "outputs": [],
   "source": []
  }
 ],
 "metadata": {
  "kernelspec": {
   "display_name": "Python [conda env:base] *",
   "language": "python",
   "name": "conda-base-py"
  },
  "language_info": {
   "codemirror_mode": {
    "name": "ipython",
    "version": 3
   },
   "file_extension": ".py",
   "mimetype": "text/x-python",
   "name": "python",
   "nbconvert_exporter": "python",
   "pygments_lexer": "ipython3",
   "version": "3.12.7"
  }
 },
 "nbformat": 4,
 "nbformat_minor": 5
}
